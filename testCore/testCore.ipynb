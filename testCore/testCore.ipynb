{
 "cells": [
  {
   "cell_type": "code",
   "execution_count": 1,
   "metadata": {},
   "outputs": [],
   "source": [
    "%matplotlib inline\n",
    "import openmc"
   ]
  },
  {
   "cell_type": "code",
   "execution_count": 2,
   "metadata": {},
   "outputs": [
    {
     "name": "stdout",
     "output_type": "stream",
     "text": [
      "<?xml version='1.0' encoding='utf-8'?>\r\n",
      "<materials>\r\n",
      "  <material id=\"1\" name=\"zirconium\">\r\n",
      "    <density units=\"g/cm3\" value=\"6.6\" />\r\n",
      "    <nuclide ao=\"0.5145\" name=\"Zr90\" />\r\n",
      "    <nuclide ao=\"0.1122\" name=\"Zr91\" />\r\n",
      "    <nuclide ao=\"0.1715\" name=\"Zr92\" />\r\n",
      "    <nuclide ao=\"0.1738\" name=\"Zr94\" />\r\n",
      "    <nuclide ao=\"0.028\" name=\"Zr96\" />\r\n",
      "  </material>\r\n",
      "  <material id=\"2\" name=\"fuel\">\r\n",
      "    <density units=\"g/cm3\" value=\"10.0\" />\r\n",
      "    <nuclide ao=\"0.03\" name=\"U235\" />\r\n",
      "    <nuclide ao=\"0.97\" name=\"U238\" />\r\n",
      "    <nuclide ao=\"2.0\" name=\"O16\" />\r\n",
      "  </material>\r\n",
      "  <material id=\"3\" name=\"Stainless Steel\">\r\n",
      "    <density units=\"g/cm3\" value=\"8.0\" />\r\n",
      "    <nuclide ao=\"0.05845\" name=\"Fe54\" />\r\n",
      "    <nuclide ao=\"0.91754\" name=\"Fe56\" />\r\n",
      "    <nuclide ao=\"0.02119\" name=\"Fe57\" />\r\n",
      "    <nuclide ao=\"0.00282\" name=\"Fe58\" />\r\n",
      "  </material>\r\n",
      "  <material id=\"4\" name=\"h2o\">\r\n",
      "    <density units=\"g/cm3\" value=\"1.0\" />\r\n",
      "    <nuclide ao=\"2.0\" name=\"H1\" />\r\n",
      "    <nuclide ao=\"0.999621\" name=\"O16\" />\r\n",
      "    <nuclide ao=\"0.000379\" name=\"O17\" />\r\n",
      "    <sab name=\"c_H_in_H2O\" />\r\n",
      "  </material>\r\n",
      "</materials>\r\n"
     ]
    }
   ],
   "source": [
    "# Materials\n",
    "# Need to figure out how to get openMC to read the material file\n",
    "zirconium = openmc.Material(1, \"zirconium\")\n",
    "zirconium.add_element('Zr', 1.0)\n",
    "zirconium.set_density('g/cm3', 6.6)\n",
    "\n",
    "fuel = openmc.Material(2,\"fuel\")\n",
    "fuel.add_nuclide('U235', 0.03)\n",
    "fuel.add_nuclide('U238', 0.97)\n",
    "fuel.add_nuclide('O16', 2.0)\n",
    "fuel.set_density('g/cm3', 10.0)\n",
    "\n",
    "stainlessSteel = openmc.Material(3, \"Stainless Steel\")\n",
    "stainlessSteel.add_element('Fe', 1.0)\n",
    "stainlessSteel.set_density('g/cm3', 8.0)\n",
    "\n",
    "water = openmc.Material(4, \"h2o\")\n",
    "water.add_nuclide('H1', 2.0)\n",
    "water.add_element('O', 1.0)\n",
    "water.set_density('g/cm3', 1.0)\n",
    "water.add_s_alpha_beta('c_H_in_H2O')\n",
    "\n",
    "mats = openmc.Materials([zirconium, fuel, stainlessSteel, water])\n",
    "mats.export_to_xml()\n",
    "!cat materials.xml"
   ]
  },
  {
   "cell_type": "markdown",
   "metadata": {},
   "source": [
    "'Bot': Surface(10, 'z-plane', {'D':-10}, 'Top of the water tank'),\n",
    "'Top': Surface(11, 'z-plane', {'D': 10}, 'Bottom of the water tank'),\n",
    "'fuelBot': Surface(12, 'z-plane', {'D':-9}, 'Top of the fuel region'),\n",
    "'fuelTop': Surface(13, 'z-plane', {'D': 9}, 'Bottom of the fuel region'),\n",
    "'elementBot': Surface(14, 'z-plane', {'D':-9.5}, 'Bottom of the fuel element'),\n",
    "'elementTop': Surface(15, 'z-plane', {'D': 9.5}, 'Bottom of the fuel element'),\n",
    "'cladOutRad': Surface(42, 'z-cylinder', {'x': 0.0, 'y': 0.0, 'r': 3.5}, 'Fuel cladding outer radius'),\n",
    "'fuelOuterRad': Surface(41, 'z-cylinder', {'x': 0.0, 'y': 0.0, 'r': 3.4}, 'Fuel meat outer radius'),\n",
    "'zircOuterRad': Surface(40, 'z-cylinder', {'x': 0.0, 'y': 0.0, 'r': 0.5}, 'Zirconium rod outer radius'),\n",
    "'coreInnerRad': Surface(20, 'z-cylinder', {'x': 0.0, 'y': 0.0, 'r': 10}, 'Inner radius of water tank'),\n",
    "'coreOuterRad': Surface(21, 'z-cylinder', {'x': 0.0, 'y': 0.0, 'r': 11}, 'Outer radius of water tank'),\n",
    "'northeastFuel': Surface(30, 'z-cylinder', {'x': 4.1, 'y': 4.1, 'r': 3.5}, 'Bound of the NE fuel location'),\n",
    "'southeastFuel': Surface(31, 'z-cylinder', {'x': 4.1, 'y':-4.1, 'r': 3.5}, 'Bound of the SE fuel location'),\n",
    "'southwestFuel': Surface(32, 'z-cylinder', {'x':-4.1, 'y':-4.1, 'r': 3.5}, 'Bound of the SW fuel location'),\n",
    "'northwestFuel': Surface(33, 'z-cylinder', {'x':-4.1, 'y': 4.1, 'r': 3.5}, 'Bound of the NW fuel location'),"
   ]
  },
  {
   "cell_type": "code",
   "execution_count": 3,
   "metadata": {
    "scrolled": true
   },
   "outputs": [],
   "source": [
    "# Surfaces are easy to translate \n",
    "Bot = openmc.ZPlane(z0=-10, surface_id=10, name='Top of the water tank', boundary_type='vacuum')\n",
    "Top = openmc.ZPlane(z0=10, surface_id=11, name='Bottom of the water tank', boundary_type='vacuum')\n",
    "fuelBot = openmc.ZPlane(z0=-9, surface_id=12, name='Top of the fuel region')\n",
    "fuelTop = openmc.ZPlane(z0=9, surface_id=13, name='Bottom of the fuel region')\n",
    "elementBot = openmc.ZPlane(z0=-9.5, surface_id=14, name='Bottom of the fuel element')\n",
    "elementTop = openmc.ZPlane(z0=9.5, surface_id=15, name='Bottom of the fuel element')\n",
    "cladOutRad = openmc.ZCylinder(x0=0.0, y0=0.0, R=3.5, surface_id=42, name='Fuel cladding outer radius')\n",
    "fuelOuterRad = openmc.ZCylinder(x0=0.0, y0=0.0, R=3.4, surface_id=41, name='Fuel meat outer radius')\n",
    "zircOuterRad = openmc.ZCylinder(x0=0.0, y0=0.0, R=0.5, surface_id=40, name='Zirconium rod outer radius')\n",
    "coreInnerRad = openmc.ZCylinder(x0=0.0, y0=0.0, R=10, surface_id=20, name='Inner radius of water tank')\n",
    "coreOuterRad = openmc.ZCylinder(x0=0.0, y0=0.0, R=11, surface_id=21, name='Outer radius of water tank', boundary_type='vacuum')\n",
    "northeastFuel = openmc.ZCylinder(x0=4.1, y0=4.1, R=3.5, surface_id=30, name='Bound of the NE fuel location')\n",
    "southeastFuel = openmc.ZCylinder(x0=4.1, y0=-4.1, R=3.5, surface_id=31, name='Bound of the SE fuel location')\n",
    "southwestFuel = openmc.ZCylinder(x0=-4.1, y0=-4.1, R=3.5, surface_id=32, name='Bound of the SW fuel location')\n",
    "northwestFuel = openmc.ZCylinder(x0=-4.1, y0=4.1, R=3.5, surface_id=33, name='Bound of the NW fuel location')"
   ]
  },
  {
   "cell_type": "markdown",
   "metadata": {},
   "source": [
    "'zirc': Group(10, [(self.surfs['fuelBot'], 1),\n",
    "                   (self.surfs['fuelTop'], -1),\n",
    "                   (self.surfs['zircOuterRad'], -1)]),\n",
    "'fuelMeat': Group(20, [(self.surfs['fuelBot'], 1),\n",
    "                       (self.surfs['fuelTop'], -1),\n",
    "                       (self.surfs['zircOuterRad'], 1),\n",
    "                       (self.surfs['fuelOuterRad'], -1)]),\n",
    "'cladOuter': Group(30, [(self.surfs['fuelBot'], 1),\n",
    "                        (self.surfs['fuelTop'], -1),\n",
    "                        (self.surfs['fuelOuterRad'], 1)]),\n",
    "'cladTop': Group(31, [(self.surfs['fuelTop'], 1)]),\n",
    "'cladBot': Group(32, [(self.surfs['fuelBot'], -1)]),\n",
    "'watertop': Group(34, [(self.surfs['elementTop'], 1)]),\n",
    "'waterbot': Group(35, [(self.surfs['elementBot'], -1)])"
   ]
  },
  {
   "cell_type": "code",
   "execution_count": 4,
   "metadata": {},
   "outputs": [],
   "source": [
    "# Unions or regions are easy to translate here\n",
    "zirc = +fuelBot & -fuelTop & -zircOuterRad\n",
    "fuelMeat = +fuelBot & -fuelTop & +zircOuterRad & -fuelOuterRad\n",
    "cladOuter = +fuelBot & -fuelTop & +fuelOuterRad\n",
    "cladTop = +fuelTop\n",
    "cladBot = -fuelBot\n",
    "watertop = +elementTop\n",
    "waterbot = -elementBot"
   ]
  },
  {
   "cell_type": "markdown",
   "metadata": {},
   "source": [
    "for i in range(1, 5):\n",
    "    self.cells['zirc{}'.format(i)] = Cell(10 + 100 * i, [groups['zirc']], self.material.zirconium)\n",
    "    self.cells['fuelMeat{}'.format(i)] = Cell(11 + 100 * i, [groups['fuelMeat']], self.material.fuel[list(self.material.fuel.keys())[0]])\n",
    "    self.cells['cladding{}'.format(i)] = Cell(12 + 100 * i, [groups['cladOuter'], groups['cladTop'], groups['cladBot']],self.material.stainlessSteel)\n",
    "\n",
    "self.universeNE = Universe(1, [self.cells['zirc1'], self.cells['fuelMeat1'], self.cells['cladding1']],\n",
    "                                   (4.1, 4.1, 0), 'The fuel element universe')\n",
    "self.universeSE = Universe(2, [self.cells['zirc2'], self.cells['fuelMeat2'], self.cells['cladding2']],\n",
    "                                 (4.1, -4.1, 0), 'The fuel element universe')\n",
    "self.universeSW = Universe(3, [self.cells['zirc3'], self.cells['fuelMeat3'], self.cells['cladding3']],\n",
    "                                  (-4.1, -4.1, 0), 'The fuel element universe')\n",
    "self.universeNW = Universe(4, [self.cells['zirc4'], self.cells['fuelMeat4'], self.cells['cladding4']],\n",
    "                                   (-4.1, 4.1, 0), 'The fuel element universe')"
   ]
  },
  {
   "cell_type": "code",
   "execution_count": 5,
   "metadata": {},
   "outputs": [],
   "source": [
    "# Here are the cells and universes\n",
    "# The geometry given will need to be changed so the universes or cells are translated\n",
    "zirc1 = openmc.Cell(cell_id=110, fill=zirconium, region=zirc)\n",
    "zirc2 = openmc.Cell(cell_id=210, fill=zirconium, region=zirc)\n",
    "zirc3 = openmc.Cell(cell_id=310, fill=zirconium, region=zirc)\n",
    "zirc4 = openmc.Cell(cell_id=410, fill=zirconium, region=zirc)\n",
    "\n",
    "fuelMeat1 = openmc.Cell(cell_id=111, fill=fuel, region=fuelMeat)\n",
    "fuelMeat2 = openmc.Cell(cell_id=211, fill=fuel, region=fuelMeat)\n",
    "fuelMeat3 = openmc.Cell(cell_id=311, fill=fuel, region=fuelMeat)\n",
    "fuelMeat4 = openmc.Cell(cell_id=411, fill=fuel, region=fuelMeat)\n",
    "\n",
    "cladding1 = openmc.Cell(cell_id=112, fill=stainlessSteel, region=cladOuter|cladTop|cladBot)\n",
    "cladding2 = openmc.Cell(cell_id=212, fill=stainlessSteel, region=cladOuter|cladTop|cladBot)\n",
    "cladding3 = openmc.Cell(cell_id=312, fill=stainlessSteel, region=cladOuter|cladTop|cladBot)\n",
    "cladding4 = openmc.Cell(cell_id=412, fill=stainlessSteel, region=cladOuter|cladTop|cladBot)"
   ]
  },
  {
   "cell_type": "code",
   "execution_count": 6,
   "metadata": {},
   "outputs": [],
   "source": [
    "# Universes\n",
    "# No translation to new coordinates might be a problem if translation isnt supported on universes\n",
    "universeNE = openmc.Universe(universe_id=1, cells=(zirc1, fuelMeat1, cladding1), name=\"The fuel element universe\")\n",
    "# universeNE.translation = (4.1, 4.1, 0.0)\n",
    "\n",
    "universeSE = openmc.Universe(universe_id=2, cells=(zirc2, fuelMeat2, cladding2), name=\"The fuel element universe\")\n",
    "# universeSE.translation = (4.1, -4.1, 0.0)\n",
    "\n",
    "universeSW = openmc.Universe(universe_id=3, cells=(zirc3, fuelMeat3, cladding3), name=\"The fuel element universe\")\n",
    "# universeSW.translation = (-4.1, -4.1, 0.0)\n",
    "\n",
    "universeNW = openmc.Universe(universe_id=4, cells=(zirc4, fuelMeat4, cladding4), name=\"The fuel element universe\")\n",
    "# universeNW.translation = (-4.1, 4.1, 0.0)"
   ]
  },
  {
   "cell_type": "markdown",
   "metadata": {},
   "source": [
    "'waterOut': Group(40, [(self.surfs['elementTop'], -1),\n",
    "                       (self.surfs['elementBot'], 1),\n",
    "                       (self.surfs['coreInnerRad'], -1),\n",
    "                       (self.surfs['northeastFuel'], 1, \"U\"),\n",
    "                       (self.surfs['southeastFuel'], 1, 'Universe Boundary'),\n",
    "                       (self.surfs['southwestFuel'], 1, 'Universe Boundary'),\n",
    "                       (self.surfs['northwestFuel'], 1, 'Universe Boundary')]),\n",
    "'waterTop': Group(41, [(self.surfs['elementTop'], 1), (self.surfs['coreInnerRad'], -1)]),\n",
    "'waterBot': Group(42, [(self.surfs['elementBot'], -1), (self.surfs['coreInnerRad'], -1)]),\n",
    "'casing': Group(43, [(self.surfs['coreInnerRad'], 1)]),\n",
    "'fuelNE': Group(50, [(self.surfs['elementTop'], -1),\n",
    "                     (self.surfs['elementBot'], 1),\n",
    "                     (self.surfs['northeastFuel'], -1)]),\n",
    "'fuelSE': Group(51, [(self.surfs['elementTop'], -1),\n",
    "                     (self.surfs['elementBot'], 1),\n",
    "                     (self.surfs['southeastFuel'], -1)]),\n",
    "'fuelSW': Group(52, [(self.surfs['elementTop'], -1),\n",
    "                     (self.surfs['elementBot'], 1),\n",
    "                     (self.surfs['southwestFuel'], -1)]),\n",
    "'fuelNW': Group(53, [(self.surfs['elementTop'], -1),\n",
    "                     (self.surfs['elementBot'], 1),\n",
    "                     (self.surfs['northwestFuel'], -1)]),\n",
    "'graveTop': Group(90, [(self.surfs['Top'], 1)]),\n",
    "'graveBot': Group(91, [(self.surfs['Bot'], -1)]),\n",
    "'graveMid': Group(92, [(self.surfs['coreOuterRad'], 1)]),\n",
    "'Core': Group(43, [(self.surfs['Top'], -1), (self.surfs['Bot'], 1), (self.surfs['coreOuterRad'], -1)])"
   ]
  },
  {
   "cell_type": "code",
   "execution_count": 7,
   "metadata": {},
   "outputs": [],
   "source": [
    "# Halfspaces for layer 2\n",
    "# Easy transistion\n",
    "waterOut = -elementTop & +elementBot & -coreInnerRad & +northeastFuel & +southeastFuel & +southwestFuel & +northwestFuel\n",
    "waterTop = +elementTop & -coreInnerRad\n",
    "waterBot = -elementBot & -coreInnerRad\n",
    "# had to change because original does not work\n",
    "# casing = +coreInnerRad\n",
    "casing = +coreInnerRad & -coreOuterRad\n",
    "fuelNE = -elementTop & +elementBot & -northeastFuel\n",
    "fuelSE = -elementTop & +elementBot & -southeastFuel\n",
    "fuelSW = -elementTop & +elementBot & -southwestFuel\n",
    "fuelNW = -elementTop & +elementBot & -northwestFuel\n",
    "graveTop = +Top\n",
    "graveBot = -Bot\n",
    "graveMid = +coreOuterRad\n",
    "Core = -Top & +Bot & -coreOuterRad"
   ]
  },
  {
   "cell_type": "markdown",
   "metadata": {},
   "source": [
    "self.cells['water'] = Cell(20, [groups['waterOut'], groups['waterTop'], groups['waterBot']], self.material.water)\n",
    "self.cells['casing'] = Cell(21, [groups['casing']], self.material.stainlessSteel)\n",
    "self.cells['fuelNE'] = Cell(30, [groups['fuelNE']], self.universeNE,\n",
    "                       bounds=(self.surfs['northeastFuel'].number,\n",
    "                       {\"CZ\": (self.surfs['northeastFuel'].dims['r'], self.surfs['northeastFuel'].number),\n",
    "                        'PZ': (self.surfs['Top'].dims, self.surfs['Top'].number),\n",
    "                       '-PZ': (self.surfs['Bot'].dims, self.surfs['Bot'].number)}))\n",
    "self.cells['fuelSE'] = Cell(31, [groups['fuelSE']], self.universeSE,\n",
    "                       bounds=(self.surfs['southeastFuel'].number,\n",
    "                       {\"CZ\": (self.surfs['southeastFuel'].dims['r'], self.surfs['southeastFuel'].number),\n",
    "                        'PZ': (self.surfs['Top'].dims, self.surfs['Top'].number),\n",
    "                       '-PZ': (self.surfs['Bot'].dims, self.surfs['Bot'].number)}))\n",
    "self.cells['fuelSW'] = Cell(32, [groups['fuelSW']], self.universeSW,\n",
    "                       bounds=(self.surfs['southwestFuel'].number,\n",
    "                       {\"CZ\": (self.surfs['northeastFuel'].dims['r'], self.surfs['northeastFuel'].number),\n",
    "                        'PZ': (self.surfs['Top'].dims, self.surfs['Top'].number),\n",
    "                       '-PZ': (self.surfs['Bot'].dims, self.surfs['Bot'].number)}))\n",
    "self.cells['fuelNW'] = Cell(33, [groups['fuelNW']], self.universeNW,\n",
    "                       bounds=(self.surfs['northwestFuel'].number,\n",
    "                       {\"CZ\": (self.surfs['northeastFuel'].dims['r'], self.surfs['northeastFuel'].number),\n",
    "                        'PZ': (self.surfs['Top'].dims, self.surfs['Top'].number),\n",
    "                       '-PZ': (self.surfs['Bot'].dims, self.surfs['Bot'].number)}))\n",
    "self.cells['graveyard'] = Cell(99, [groups['graveTop'], groups['graveBot'], groups['graveMid']], 'void', nImp=0, pImp=0)\n",
    "self.universeBig = Universe(11, [self.cells['water'], self.cells['casing'], self.cells['fuelNE'],\n",
    "                                 self.cells['fuelSE'], self.cells['fuelSW'], self.cells['fuelNW'],\n",
    "                                 self.cells['graveyard']],\n",
    "                                 (0, 0, 0), 'The biggest universe')\n",
    "self.cells['Core'] = Cell(41, [groups['Core']], self.universeBig,\n",
    "                     bounds=(self.surfs['coreOuterRad'].number,\n",
    "                     {'CZ': (self.surfs['coreOuterRad'].dims, self.surfs['coreOuterRad'].number),\n",
    "                      'PZ': (self.surfs['Top'].dims, self.surfs['Top'].number),\n",
    "                     '-PZ': (self.surfs['Bot'].dims, self.surfs['Bot'].number)}))"
   ]
  },
  {
   "cell_type": "code",
   "execution_count": 8,
   "metadata": {},
   "outputs": [],
   "source": [
    "water = openmc.Cell(cell_id=20, fill=water, region=waterOut|waterTop|waterBot)\n",
    "casing = openmc.Cell(cell_id=21, fill=stainlessSteel, region=casing)\n",
    "\n",
    "fuelNE = openmc.Cell(cell_id=30, fill=universeNE, region=fuelNE) # Not sure if these are right\n",
    "fuelNE.translation = (4.1, 4.1, 0.0)\n",
    "fuelSE = openmc.Cell(cell_id=31, fill=universeSE, region=fuelSE) # Left out the stuff about boundaries\n",
    "fuelSE.translation = (4.1, -4.1, 0.0)\n",
    "fuelSW = openmc.Cell(cell_id=32, fill=universeSW, region=fuelSW)\n",
    "fuelSW.translation = (-4.1, -4.1, 0.0)\n",
    "fuelNW = openmc.Cell(cell_id=33, fill=universeNW, region=fuelNW)\n",
    "universeNW.translation = (-4.1, 4.1, 0.0)\n",
    "\n",
    "graveyard = openmc.Cell(cell_id=99, fill='void', region=graveTop|graveBot|graveMid) # neutron and photon importance?\n",
    "universeBig = openmc.Universe(universe_id=11, cells=(water, casing, fuelNE, fuelSE, fuelSW, fuelNW, graveyard), name=\"The biggest universe\")\n",
    "Core = openmc.Cell(cell_id=41, fill=universeBig)"
   ]
  },
  {
   "cell_type": "code",
   "execution_count": 9,
   "metadata": {
    "scrolled": true
   },
   "outputs": [
    {
     "name": "stdout",
     "output_type": "stream",
     "text": [
      "<?xml version='1.0' encoding='utf-8'?>\r\n",
      "<geometry>\r\n",
      "  <cell id=\"20\" material=\"4\" region=\"(-15 14 -20 30 31 32 33) | (15 -20) | (-14 -20)\" universe=\"11\" />\r\n",
      "  <cell id=\"21\" material=\"3\" region=\"20\" universe=\"11\" />\r\n",
      "  <cell fill=\"1\" id=\"30\" region=\"-15 14 -30\" translation=\"4.1 4.1 0.0\" universe=\"11\" />\r\n",
      "  <cell fill=\"2\" id=\"31\" region=\"-15 14 -31\" translation=\"4.1 -4.1 0.0\" universe=\"11\" />\r\n",
      "  <cell fill=\"3\" id=\"32\" region=\"-15 14 -32\" translation=\"-4.1 -4.1 0.0\" universe=\"11\" />\r\n",
      "  <cell fill=\"4\" id=\"33\" region=\"-15 14 -33\" universe=\"11\" />\r\n",
      "  <cell fill=\"11\" id=\"41\" universe=\"5\" />\r\n",
      "  <cell id=\"99\" material=\"void\" region=\"11 | -10 | 21\" universe=\"11\" />\r\n",
      "  <cell id=\"110\" material=\"1\" region=\"12 -13 -40\" universe=\"1\" />\r\n",
      "  <cell id=\"111\" material=\"2\" region=\"12 -13 40 -41\" universe=\"1\" />\r\n",
      "  <cell id=\"112\" material=\"3\" region=\"(12 -13 41) | 13 | -12\" universe=\"1\" />\r\n",
      "  <cell id=\"210\" material=\"1\" region=\"12 -13 -40\" universe=\"2\" />\r\n",
      "  <cell id=\"211\" material=\"2\" region=\"12 -13 40 -41\" universe=\"2\" />\r\n",
      "  <cell id=\"212\" material=\"3\" region=\"(12 -13 41) | 13 | -12\" universe=\"2\" />\r\n",
      "  <cell id=\"310\" material=\"1\" region=\"12 -13 -40\" universe=\"3\" />\r\n",
      "  <cell id=\"311\" material=\"2\" region=\"12 -13 40 -41\" universe=\"3\" />\r\n",
      "  <cell id=\"312\" material=\"3\" region=\"(12 -13 41) | 13 | -12\" universe=\"3\" />\r\n",
      "  <cell id=\"410\" material=\"1\" region=\"12 -13 -40\" universe=\"4\" />\r\n",
      "  <cell id=\"411\" material=\"2\" region=\"12 -13 40 -41\" universe=\"4\" />\r\n",
      "  <cell id=\"412\" material=\"3\" region=\"(12 -13 41) | 13 | -12\" universe=\"4\" />\r\n",
      "  <surface boundary=\"vacuum\" coeffs=\"-10\" id=\"10\" name=\"Top of the water tank\" type=\"z-plane\" />\r\n",
      "  <surface boundary=\"vacuum\" coeffs=\"10\" id=\"11\" name=\"Bottom of the water tank\" type=\"z-plane\" />\r\n",
      "  <surface coeffs=\"-9\" id=\"12\" name=\"Top of the fuel region\" type=\"z-plane\" />\r\n",
      "  <surface coeffs=\"9\" id=\"13\" name=\"Bottom of the fuel region\" type=\"z-plane\" />\r\n",
      "  <surface coeffs=\"-9.5\" id=\"14\" name=\"Bottom of the fuel element\" type=\"z-plane\" />\r\n",
      "  <surface coeffs=\"9.5\" id=\"15\" name=\"Bottom of the fuel element\" type=\"z-plane\" />\r\n",
      "  <surface coeffs=\"0.0 0.0 10\" id=\"20\" name=\"Inner radius of water tank\" type=\"z-cylinder\" />\r\n",
      "  <surface boundary=\"vacuum\" coeffs=\"0.0 0.0 11\" id=\"21\" name=\"Outer radius of water tank\" type=\"z-cylinder\" />\r\n",
      "  <surface coeffs=\"4.1 4.1 3.5\" id=\"30\" name=\"Bound of the NE fuel location\" type=\"z-cylinder\" />\r\n",
      "  <surface coeffs=\"4.1 -4.1 3.5\" id=\"31\" name=\"Bound of the SE fuel location\" type=\"z-cylinder\" />\r\n",
      "  <surface coeffs=\"-4.1 -4.1 3.5\" id=\"32\" name=\"Bound of the SW fuel location\" type=\"z-cylinder\" />\r\n",
      "  <surface coeffs=\"-4.1 4.1 3.5\" id=\"33\" name=\"Bound of the NW fuel location\" type=\"z-cylinder\" />\r\n",
      "  <surface coeffs=\"0.0 0.0 0.5\" id=\"40\" name=\"Zirconium rod outer radius\" type=\"z-cylinder\" />\r\n",
      "  <surface coeffs=\"0.0 0.0 3.4\" id=\"41\" name=\"Fuel meat outer radius\" type=\"z-cylinder\" />\r\n",
      "</geometry>\r\n"
     ]
    }
   ],
   "source": [
    "root = openmc.Universe()\n",
    "root.add_cell(Core)\n",
    "geom = openmc.Geometry(root)\n",
    "geom.export_to_xml()\n",
    "!cat geometry.xml"
   ]
  },
  {
   "cell_type": "code",
   "execution_count": 10,
   "metadata": {},
   "outputs": [],
   "source": [
    "# Set openmc to run 100 batches of 1000 cells with 20 batches not changing the average\n",
    "settings = openmc.Settings()\n",
    "settings.batches = 100\n",
    "settings.inactive = 20\n",
    "settings.particles = 1000"
   ]
  },
  {
   "cell_type": "code",
   "execution_count": 11,
   "metadata": {},
   "outputs": [
    {
     "name": "stdout",
     "output_type": "stream",
     "text": [
      "<?xml version='1.0' encoding='utf-8'?>\r\n",
      "<settings>\r\n",
      "  <run_mode>eigenvalue</run_mode>\r\n",
      "  <particles>1000</particles>\r\n",
      "  <batches>100</batches>\r\n",
      "  <inactive>20</inactive>\r\n",
      "</settings>\r\n"
     ]
    }
   ],
   "source": [
    "# Export settings to settings.xml\n",
    "settings.export_to_xml()\n",
    "!cat settings.xml"
   ]
  },
  {
   "cell_type": "code",
   "execution_count": 12,
   "metadata": {},
   "outputs": [
    {
     "name": "stdout",
     "output_type": "stream",
     "text": [
      "\n",
      "                               %%%%%%%%%%%%%%%\n",
      "                          %%%%%%%%%%%%%%%%%%%%%%%%\n",
      "                       %%%%%%%%%%%%%%%%%%%%%%%%%%%%%%\n",
      "                     %%%%%%%%%%%%%%%%%%%%%%%%%%%%%%%%%%\n",
      "                   %%%%%%%%%%%%%%%%%%%%%%%%%%%%%%%%%%%%%%\n",
      "                  %%%%%%%%%%%%%%%%%%%%%%%%%%%%%%%%%%%%%%%%\n",
      "                                   %%%%%%%%%%%%%%%%%%%%%%%%\n",
      "                                    %%%%%%%%%%%%%%%%%%%%%%%%\n",
      "                ###############      %%%%%%%%%%%%%%%%%%%%%%%%\n",
      "               ##################     %%%%%%%%%%%%%%%%%%%%%%%\n",
      "               ###################     %%%%%%%%%%%%%%%%%%%%%%%\n",
      "               ####################     %%%%%%%%%%%%%%%%%%%%%%\n",
      "               #####################     %%%%%%%%%%%%%%%%%%%%%\n",
      "               ######################     %%%%%%%%%%%%%%%%%%%%\n",
      "               #######################     %%%%%%%%%%%%%%%%%%\n",
      "                #######################     %%%%%%%%%%%%%%%%%\n",
      "                ######################     %%%%%%%%%%%%%%%%%\n",
      "                 ####################     %%%%%%%%%%%%%%%%%\n",
      "                   #################     %%%%%%%%%%%%%%%%%\n",
      "                    ###############     %%%%%%%%%%%%%%%%\n",
      "                      ############     %%%%%%%%%%%%%%%\n",
      "                         ########     %%%%%%%%%%%%%%\n",
      "                                     %%%%%%%%%%%\n",
      "\n",
      "                   | The OpenMC Monte Carlo Code\n",
      "         Copyright | 2011-2018 Massachusetts Institute of Technology\n",
      "           License | http://openmc.readthedocs.io/en/latest/license.html\n",
      "           Version | 0.10.0\n",
      "          Git SHA1 | 455efffdbf6eacbc0b3b93ad61cfeb24490897d8\n",
      "         Date/Time | 2019-09-30 19:36:18\n",
      "    OpenMP Threads | 4\n",
      "\n",
      " Reading settings XML file...\n",
      " Reading cross sections XML file...\n",
      " Reading materials XML file...\n",
      " Reading geometry XML file...\n",
      " Building neighboring cells lists for each surface...\n",
      " Reading Zr90 from /home/stevejr/opt/openmc/build/nndc_hdf5/Zr90.h5\n",
      " Reading Zr91 from /home/stevejr/opt/openmc/build/nndc_hdf5/Zr91.h5\n",
      " Reading Zr92 from /home/stevejr/opt/openmc/build/nndc_hdf5/Zr92.h5\n",
      " Reading Zr94 from /home/stevejr/opt/openmc/build/nndc_hdf5/Zr94.h5\n",
      " Reading Zr96 from /home/stevejr/opt/openmc/build/nndc_hdf5/Zr96.h5\n",
      " Reading U235 from /home/stevejr/opt/openmc/build/nndc_hdf5/U235.h5\n",
      " Reading U238 from /home/stevejr/opt/openmc/build/nndc_hdf5/U238.h5\n",
      " Reading O16 from /home/stevejr/opt/openmc/build/nndc_hdf5/O16.h5\n",
      " Reading Fe54 from /home/stevejr/opt/openmc/build/nndc_hdf5/Fe54.h5\n",
      " Reading Fe56 from /home/stevejr/opt/openmc/build/nndc_hdf5/Fe56.h5\n",
      " Reading Fe57 from /home/stevejr/opt/openmc/build/nndc_hdf5/Fe57.h5\n",
      " Reading Fe58 from /home/stevejr/opt/openmc/build/nndc_hdf5/Fe58.h5\n",
      " Reading H1 from /home/stevejr/opt/openmc/build/nndc_hdf5/H1.h5\n",
      " Reading O17 from /home/stevejr/opt/openmc/build/nndc_hdf5/O17.h5\n",
      " Reading c_H_in_H2O from /home/stevejr/opt/openmc/build/nndc_hdf5/c_H_in_H2O.h5\n",
      " Maximum neutron transport energy: 2.00000E+07 eV for Zr90\n",
      " Writing summary.h5 file...\n",
      " WARNING: Cell overlap checking is ON.\n",
      " Initializing source particles...\n",
      "\n",
      " ====================>     K EIGENVALUE SIMULATION     <====================\n",
      "\n",
      "  Bat./Gen.      k            Average k         \n",
      "  =========   ========   ====================   \n",
      " ERROR: Overlapping cells detected: 99, 21 on universe 11\n",
      "ERROR STOP \n",
      "\n",
      "Error termination. Backtrace:\n",
      " ERROR: Overlapping cells detected: 99, 21 on universe 11\n",
      "ERROR STOP \n",
      "\n",
      "Error termination. Backtrace:\n",
      " ERROR: Overlapping cells detected: 99, 21 on universe 11\n",
      "ERROR STOP \n",
      "\n",
      "Error termination. Backtrace:\n",
      " ERROR: Overlapping cells detected: 99, 21 on universe 11\n",
      "ERROR STOP \n",
      "\n",
      "Error termination. Backtrace:\n",
      "#0  0x7fbce2285692 in ???\n",
      "#0  0x7fbce2285692 in ???\n",
      "#1  0x7fbce228af26 in ???\n",
      "#1  0x7fbce228af26 in ???\n",
      "#2  0x7fbce2333b8a in ???\n",
      "#3  0x7fbce231eb06 in ???\n",
      "#0  0x7fbce2285692 in ???\n",
      "#1  0x7fbce228af26 in ???\n",
      "#2  0x7fbce2333b8a in ???\n",
      "#3  0x7fbce231eb06 in ???\n",
      "#0  0x7fbce2285692 in ???\n",
      "#1  0x7fbce228af26 in ???\n",
      "#2  0x7fbce2333b8a in ???\n",
      "#3  0x7fbce231eb06 in ???\n",
      "#2  0x7fbce2333b8a in ???\n",
      "#3  0x7fbce231eb06 in ???\n",
      "#4  0x7fbce26456d4 in gomp_thread_start\n",
      "\tat /home/nwani/m3/conda-bld/compilers_linux-64_1560109574129/work/.build/x86_64-conda_cos6-linux-gnu/src/gcc/libgomp/team.c:123\n",
      "#5  0x7fbce0efd6da in ???\n",
      "#4  0x7fbce26456d4 in gomp_thread_start\n",
      "\tat /home/nwani/m3/conda-bld/compilers_linux-64_1560109574129/work/.build/x86_64-conda_cos6-linux-gnu/src/gcc/libgomp/team.c:123\n",
      "#6  0x7fbce1f5788e in ???\n",
      "#7  0xffffffffffffffff in ???\n",
      "#5  0x7fbce0efd6da in ???\n",
      "#6  0x7fbce1f5788e in ???\n",
      "#7  0xffffffffffffffff in ???\n"
     ]
    },
    {
     "data": {
      "text/plain": [
       "1"
      ]
     },
     "execution_count": 12,
     "metadata": {},
     "output_type": "execute_result"
    }
   ],
   "source": [
    "# Run openmc\n",
    "openmc.run(geometry_debug=True)"
   ]
  },
  {
   "cell_type": "code",
   "execution_count": 13,
   "metadata": {},
   "outputs": [
    {
     "data": {
      "text/plain": [
       "1"
      ]
     },
     "execution_count": 13,
     "metadata": {},
     "output_type": "execute_result"
    }
   ],
   "source": [
    "p1 = openmc.Plot()\n",
    "p1.basis = 'xy'\n",
    "p1.filename = 'pinplot_xy'\n",
    "p1.width = (-4,4)\n",
    "p1.pixels = (200, 200)\n",
    "p1.color_by = 'material'\n",
    "p1.colors = {fuel: 'yellow', water: 'blue'}\n",
    "plots = openmc.Plots([p1])\n",
    "plots.export_to_xml()\n",
    "openmc.plot_geometry(output=False)"
   ]
  },
  {
   "cell_type": "code",
   "execution_count": 14,
   "metadata": {},
   "outputs": [
    {
     "ename": "CalledProcessError",
     "evalue": "Command '['convert', 'pinplot_xy.ppm', 'pinplot_xy.png']' returned non-zero exit status 1.",
     "output_type": "error",
     "traceback": [
      "\u001b[0;31m---------------------------------------------------------------------------\u001b[0m",
      "\u001b[0;31mCalledProcessError\u001b[0m                        Traceback (most recent call last)",
      "\u001b[0;32m<ipython-input-14-89431242fbc4>\u001b[0m in \u001b[0;36m<module>\u001b[0;34m\u001b[0m\n\u001b[1;32m      1\u001b[0m \u001b[0;31m# Show plot of xy plane\u001b[0m\u001b[0;34m\u001b[0m\u001b[0;34m\u001b[0m\u001b[0;34m\u001b[0m\u001b[0m\n\u001b[0;32m----> 2\u001b[0;31m \u001b[0mopenmc\u001b[0m\u001b[0;34m.\u001b[0m\u001b[0mplot_inline\u001b[0m\u001b[0;34m(\u001b[0m\u001b[0mp1\u001b[0m\u001b[0;34m)\u001b[0m\u001b[0;34m\u001b[0m\u001b[0;34m\u001b[0m\u001b[0m\n\u001b[0m",
      "\u001b[0;32m~/opt/openmc/lib/python3.7/site-packages/openmc-0.10.0-py3.7-linux-x86_64.egg/openmc/executor.py\u001b[0m in \u001b[0;36mplot_inline\u001b[0;34m(plots, openmc_exec, cwd, convert_exec)\u001b[0m\n\u001b[1;32m     84\u001b[0m                 \u001b[0mppm_file\u001b[0m \u001b[0;34m=\u001b[0m \u001b[0;34m'plot_{}.ppm'\u001b[0m\u001b[0;34m.\u001b[0m\u001b[0mformat\u001b[0m\u001b[0;34m(\u001b[0m\u001b[0mp\u001b[0m\u001b[0;34m.\u001b[0m\u001b[0mid\u001b[0m\u001b[0;34m)\u001b[0m\u001b[0;34m\u001b[0m\u001b[0;34m\u001b[0m\u001b[0m\n\u001b[1;32m     85\u001b[0m             \u001b[0mpng_file\u001b[0m \u001b[0;34m=\u001b[0m \u001b[0mppm_file\u001b[0m\u001b[0;34m.\u001b[0m\u001b[0mreplace\u001b[0m\u001b[0;34m(\u001b[0m\u001b[0;34m'.ppm'\u001b[0m\u001b[0;34m,\u001b[0m \u001b[0;34m'.png'\u001b[0m\u001b[0;34m)\u001b[0m\u001b[0;34m\u001b[0m\u001b[0;34m\u001b[0m\u001b[0m\n\u001b[0;32m---> 86\u001b[0;31m             \u001b[0msubprocess\u001b[0m\u001b[0;34m.\u001b[0m\u001b[0mcheck_call\u001b[0m\u001b[0;34m(\u001b[0m\u001b[0;34m[\u001b[0m\u001b[0mconvert_exec\u001b[0m\u001b[0;34m,\u001b[0m \u001b[0mppm_file\u001b[0m\u001b[0;34m,\u001b[0m \u001b[0mpng_file\u001b[0m\u001b[0;34m]\u001b[0m\u001b[0;34m)\u001b[0m\u001b[0;34m\u001b[0m\u001b[0;34m\u001b[0m\u001b[0m\n\u001b[0m\u001b[1;32m     87\u001b[0m             \u001b[0mimages\u001b[0m\u001b[0;34m.\u001b[0m\u001b[0mappend\u001b[0m\u001b[0;34m(\u001b[0m\u001b[0mImage\u001b[0m\u001b[0;34m(\u001b[0m\u001b[0mpng_file\u001b[0m\u001b[0;34m)\u001b[0m\u001b[0;34m)\u001b[0m\u001b[0;34m\u001b[0m\u001b[0;34m\u001b[0m\u001b[0m\n\u001b[1;32m     88\u001b[0m         \u001b[0mdisplay\u001b[0m\u001b[0;34m(\u001b[0m\u001b[0;34m*\u001b[0m\u001b[0mimages\u001b[0m\u001b[0;34m)\u001b[0m\u001b[0;34m\u001b[0m\u001b[0;34m\u001b[0m\u001b[0m\n",
      "\u001b[0;32m~/opt/conda/lib/python3.7/subprocess.py\u001b[0m in \u001b[0;36mcheck_call\u001b[0;34m(*popenargs, **kwargs)\u001b[0m\n\u001b[1;32m    345\u001b[0m         \u001b[0;32mif\u001b[0m \u001b[0mcmd\u001b[0m \u001b[0;32mis\u001b[0m \u001b[0;32mNone\u001b[0m\u001b[0;34m:\u001b[0m\u001b[0;34m\u001b[0m\u001b[0;34m\u001b[0m\u001b[0m\n\u001b[1;32m    346\u001b[0m             \u001b[0mcmd\u001b[0m \u001b[0;34m=\u001b[0m \u001b[0mpopenargs\u001b[0m\u001b[0;34m[\u001b[0m\u001b[0;36m0\u001b[0m\u001b[0;34m]\u001b[0m\u001b[0;34m\u001b[0m\u001b[0;34m\u001b[0m\u001b[0m\n\u001b[0;32m--> 347\u001b[0;31m         \u001b[0;32mraise\u001b[0m \u001b[0mCalledProcessError\u001b[0m\u001b[0;34m(\u001b[0m\u001b[0mretcode\u001b[0m\u001b[0;34m,\u001b[0m \u001b[0mcmd\u001b[0m\u001b[0;34m)\u001b[0m\u001b[0;34m\u001b[0m\u001b[0;34m\u001b[0m\u001b[0m\n\u001b[0m\u001b[1;32m    348\u001b[0m     \u001b[0;32mreturn\u001b[0m \u001b[0;36m0\u001b[0m\u001b[0;34m\u001b[0m\u001b[0;34m\u001b[0m\u001b[0m\n\u001b[1;32m    349\u001b[0m \u001b[0;34m\u001b[0m\u001b[0m\n",
      "\u001b[0;31mCalledProcessError\u001b[0m: Command '['convert', 'pinplot_xy.ppm', 'pinplot_xy.png']' returned non-zero exit status 1."
     ]
    }
   ],
   "source": [
    "# Show plot of xy plane\n",
    "openmc.plot_inline(p1)"
   ]
  }
 ],
 "metadata": {
  "kernelspec": {
   "display_name": "Python 3",
   "language": "python",
   "name": "python3"
  },
  "language_info": {
   "codemirror_mode": {
    "name": "ipython",
    "version": 3
   },
   "file_extension": ".py",
   "mimetype": "text/x-python",
   "name": "python",
   "nbconvert_exporter": "python",
   "pygments_lexer": "ipython3",
   "version": "3.7.3"
  }
 },
 "nbformat": 4,
 "nbformat_minor": 2
}
