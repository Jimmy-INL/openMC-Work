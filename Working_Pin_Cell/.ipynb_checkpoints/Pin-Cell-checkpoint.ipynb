{
 "cells": [
  {
   "cell_type": "code",
   "execution_count": 1,
   "metadata": {},
   "outputs": [],
   "source": [
    "%matplotlib inline\n",
    "import openmc"
   ]
  },
  {
   "cell_type": "code",
   "execution_count": 2,
   "metadata": {},
   "outputs": [
    {
     "name": "stdout",
     "output_type": "stream",
     "text": [
      "Material\n",
      "\tID             =\t1\n",
      "\tName           =\tuo2\n",
      "\tTemperature    =\tNone\n",
      "\tDensity        =\t10.0 [g/cm3]\n",
      "\tS(a,b) Tables  \n",
      "\tNuclides       \n",
      "\tU235           =\t0.03         [ao]\n",
      "\tU238           =\t0.97         [ao]\n",
      "\tO16            =\t2.0          [ao]\n",
      "\n"
     ]
    }
   ],
   "source": [
    "uo2 = openmc.Material(1,\"uo2\")\n",
    "uo2.add_nuclide('U235', 0.03)\n",
    "uo2.add_nuclide('U238', 0.97)\n",
    "uo2.add_nuclide('O16', 2.0)\n",
    "uo2.set_density('g/cm3', 10.0)\n",
    "print(uo2)"
   ]
  },
  {
   "cell_type": "code",
   "execution_count": 3,
   "metadata": {},
   "outputs": [
    {
     "name": "stdout",
     "output_type": "stream",
     "text": [
      "Material\n",
      "\tID             =\t2\n",
      "\tName           =\tzirconium\n",
      "\tTemperature    =\tNone\n",
      "\tDensity        =\t6.6 [g/cm3]\n",
      "\tS(a,b) Tables  \n",
      "\tNuclides       \n",
      "\tZr90           =\t0.5145       [ao]\n",
      "\tZr91           =\t0.1122       [ao]\n",
      "\tZr92           =\t0.1715       [ao]\n",
      "\tZr94           =\t0.1738       [ao]\n",
      "\tZr96           =\t0.028        [ao]\n",
      "\n"
     ]
    }
   ],
   "source": [
    "zirconium = openmc.Material(2, \"zirconium\")\n",
    "zirconium.add_element('Zr', 1.0)\n",
    "zirconium.set_density('g/cm3', 6.6)\n",
    "print(zirconium)"
   ]
  },
  {
   "cell_type": "code",
   "execution_count": 4,
   "metadata": {},
   "outputs": [
    {
     "name": "stdout",
     "output_type": "stream",
     "text": [
      "Material\n",
      "\tID             =\t3\n",
      "\tName           =\th2o\n",
      "\tTemperature    =\tNone\n",
      "\tDensity        =\t1.0 [g/cm3]\n",
      "\tS(a,b) Tables  \n",
      "\tS(a,b)         =\t('c_H_in_H2O', 1.0)\n",
      "\tNuclides       \n",
      "\tH1             =\t2.0          [ao]\n",
      "\tO16            =\t0.999621     [ao]\n",
      "\tO17            =\t0.000379     [ao]\n",
      "\n"
     ]
    }
   ],
   "source": [
    "water = openmc.Material(3, \"h2o\")\n",
    "water.add_nuclide('H1', 2.0)\n",
    "water.add_element('O', 1.0)\n",
    "water.set_density('g/cm3', 1.0)\n",
    "water.add_s_alpha_beta('c_H_in_H2O')\n",
    "print(water)"
   ]
  },
  {
   "cell_type": "code",
   "execution_count": 5,
   "metadata": {},
   "outputs": [
    {
     "name": "stdout",
     "output_type": "stream",
     "text": [
      "<?xml version='1.0' encoding='utf-8'?>\r\n",
      "<materials>\r\n",
      "  <material id=\"1\" name=\"uo2\">\r\n",
      "    <density units=\"g/cm3\" value=\"10.0\" />\r\n",
      "    <nuclide ao=\"0.03\" name=\"U235\" />\r\n",
      "    <nuclide ao=\"0.97\" name=\"U238\" />\r\n",
      "    <nuclide ao=\"2.0\" name=\"O16\" />\r\n",
      "  </material>\r\n",
      "  <material id=\"2\" name=\"zirconium\">\r\n",
      "    <density units=\"g/cm3\" value=\"6.6\" />\r\n",
      "    <nuclide ao=\"0.5145\" name=\"Zr90\" />\r\n",
      "    <nuclide ao=\"0.1122\" name=\"Zr91\" />\r\n",
      "    <nuclide ao=\"0.1715\" name=\"Zr92\" />\r\n",
      "    <nuclide ao=\"0.1738\" name=\"Zr94\" />\r\n",
      "    <nuclide ao=\"0.028\" name=\"Zr96\" />\r\n",
      "  </material>\r\n",
      "  <material id=\"3\" name=\"h2o\">\r\n",
      "    <density units=\"g/cm3\" value=\"1.0\" />\r\n",
      "    <nuclide ao=\"2.0\" name=\"H1\" />\r\n",
      "    <nuclide ao=\"0.999621\" name=\"O16\" />\r\n",
      "    <nuclide ao=\"0.000379\" name=\"O17\" />\r\n",
      "    <sab name=\"c_H_in_H2O\" />\r\n",
      "  </material>\r\n",
      "</materials>\r\n"
     ]
    }
   ],
   "source": [
    "mats = openmc.Materials([uo2, zirconium, water])\n",
    "mats.export_to_xml()\n",
    "!cat materials.xml"
   ]
  },
  {
   "cell_type": "code",
   "execution_count": 6,
   "metadata": {},
   "outputs": [],
   "source": [
    "fuel_or = openmc.ZCylinder(R=0.39)\n",
    "fuel_top = openmc.ZPlane(z0=49)\n",
    "fuel_bottom = openmc.ZPlane(z0=-49)\n",
    "\n",
    "clad_ir = openmc.ZCylinder(R=0.40)\n",
    "clad_or = openmc.ZCylinder(R=0.46)\n",
    "clad_tip_r = openmc.ZCylinder(R=0.26)\n",
    "clad_cap_top = openmc.ZPlane(z0=60)\n",
    "clad_tip_top = openmc.ZPlane(z0=65)\n",
    "clad_cap_bottom = openmc.ZPlane(z0=-60)\n",
    "clad_tip_bottom = openmc.ZPlane(z0=-65)\n",
    "\n",
    "gap_top = openmc.ZPlane(z0=50)\n",
    "gap_bottom = openmc.ZPlane(z0=-50)\n",
    "\n",
    "pitch = 1.26\n",
    "back = openmc.XPlane(x0=-pitch/2, boundary_type='reflective')\n",
    "front = openmc.XPlane(x0=pitch/2, boundary_type='reflective')\n",
    "left = openmc.YPlane(y0=-pitch/2, boundary_type='reflective')\n",
    "right = openmc.YPlane(y0=pitch/2, boundary_type='reflective')\n",
    "top = openmc.ZPlane(z0=75, boundary_type='reflective')\n",
    "bottom = openmc.ZPlane(z0=-75, boundary_type='reflective')"
   ]
  },
  {
   "cell_type": "code",
   "execution_count": 7,
   "metadata": {},
   "outputs": [],
   "source": [
    "fuel_region = -fuel_or & +fuel_bottom & -fuel_top\n",
    "\n",
    "clad_region_cyl = +clad_ir & -clad_or & +gap_bottom & -gap_top\n",
    "clad_region_cap_top = +gap_top & -clad_cap_top & -clad_or\n",
    "clad_region_cap_bottom = -gap_bottom & +clad_cap_bottom & -clad_or\n",
    "clad_region_tip_top = +clad_cap_top & -clad_tip_top & -clad_tip_r\n",
    "clad_region_tip_bottom = -clad_cap_bottom & +clad_tip_bottom & -clad_tip_r\n",
    "\n",
    "gap_region_cyl = +fuel_or & -clad_ir & +fuel_bottom & -fuel_top \n",
    "gap_region_top = +fuel_top & -gap_top & -clad_ir\n",
    "gap_region_bottom = -fuel_bottom & +gap_bottom & -clad_ir"
   ]
  },
  {
   "cell_type": "code",
   "execution_count": 8,
   "metadata": {},
   "outputs": [],
   "source": [
    "water_region_r = +left & -right & +back & -front & -clad_cap_top & +clad_cap_bottom & +clad_or\n",
    "water_region_tip_t = +left & -right & +back & -front & +clad_cap_top & -clad_tip_top & +clad_tip_r\n",
    "water_region_tip_b = +left & -right & +back & -front & -clad_cap_bottom & +clad_tip_bottom & +clad_tip_r\n",
    "water_region_t = +left & -right & +back & -front & +clad_tip_top & -top\n",
    "water_region_b = +left & -right & +back & -front & -clad_tip_bottom & +bottom"
   ]
  },
  {
   "cell_type": "code",
   "execution_count": 9,
   "metadata": {},
   "outputs": [],
   "source": [
    "fuel = openmc.Cell(1, 'fuel')\n",
    "fuel.fill = uo2\n",
    "fuel.region = fuel_region"
   ]
  },
  {
   "cell_type": "code",
   "execution_count": 10,
   "metadata": {},
   "outputs": [],
   "source": [
    "gap = openmc.Cell(2, 'air gap')\n",
    "gap.region = gap_region_cyl | gap_region_top | gap_region_bottom"
   ]
  },
  {
   "cell_type": "code",
   "execution_count": 11,
   "metadata": {},
   "outputs": [],
   "source": [
    "clad = openmc.Cell(3, 'clad')\n",
    "clad.fill = zirconium\n",
    "clad.region = clad_region_cyl | clad_region_cap_top | clad_region_cap_bottom | clad_region_tip_top | clad_region_tip_bottom"
   ]
  },
  {
   "cell_type": "code",
   "execution_count": 12,
   "metadata": {},
   "outputs": [],
   "source": [
    "moderator = openmc.Cell(4, 'moderator')\n",
    "moderator.fill = water\n",
    "moderator.region = water_region_r | water_region_tip_t | water_region_tip_b | water_region_t | water_region_b"
   ]
  },
  {
   "cell_type": "code",
   "execution_count": 13,
   "metadata": {},
   "outputs": [
    {
     "name": "stdout",
     "output_type": "stream",
     "text": [
      "<?xml version='1.0' encoding='utf-8'?>\r\n",
      "<geometry>\r\n",
      "  <cell id=\"1\" material=\"1\" name=\"fuel\" region=\"-1 3 -2\" universe=\"1\" />\r\n",
      "  <cell id=\"2\" material=\"void\" name=\"air gap\" region=\"(1 -4 3 -2) | (2 -11 -4) | (-3 12 -4)\" universe=\"1\" />\r\n",
      "  <cell id=\"3\" material=\"2\" name=\"clad\" region=\"(4 -5 12 -11) | (11 -7 -5) | (-12 9 -5) | (7 -8 -6) | (-9 10 -6)\" universe=\"1\" />\r\n",
      "  <cell id=\"4\" material=\"3\" name=\"moderator\" region=\"(15 -16 13 -14 -7 9 5) | (15 -16 13 -14 7 -8 6) | (15 -16 13 -14 -9 10 6) | (15 -16 13 -14 8 -17) | (15 -16 13 -14 -10 18)\" universe=\"1\" />\r\n",
      "  <surface coeffs=\"0.0 0.0 0.39\" id=\"1\" type=\"z-cylinder\" />\r\n",
      "  <surface coeffs=\"49\" id=\"2\" type=\"z-plane\" />\r\n",
      "  <surface coeffs=\"-49\" id=\"3\" type=\"z-plane\" />\r\n",
      "  <surface coeffs=\"0.0 0.0 0.4\" id=\"4\" type=\"z-cylinder\" />\r\n",
      "  <surface coeffs=\"0.0 0.0 0.46\" id=\"5\" type=\"z-cylinder\" />\r\n",
      "  <surface coeffs=\"0.0 0.0 0.26\" id=\"6\" type=\"z-cylinder\" />\r\n",
      "  <surface coeffs=\"60\" id=\"7\" type=\"z-plane\" />\r\n",
      "  <surface coeffs=\"65\" id=\"8\" type=\"z-plane\" />\r\n",
      "  <surface coeffs=\"-60\" id=\"9\" type=\"z-plane\" />\r\n",
      "  <surface coeffs=\"-65\" id=\"10\" type=\"z-plane\" />\r\n",
      "  <surface coeffs=\"50\" id=\"11\" type=\"z-plane\" />\r\n",
      "  <surface coeffs=\"-50\" id=\"12\" type=\"z-plane\" />\r\n",
      "  <surface boundary=\"reflective\" coeffs=\"-0.63\" id=\"13\" type=\"x-plane\" />\r\n",
      "  <surface boundary=\"reflective\" coeffs=\"0.63\" id=\"14\" type=\"x-plane\" />\r\n",
      "  <surface boundary=\"reflective\" coeffs=\"-0.63\" id=\"15\" type=\"y-plane\" />\r\n",
      "  <surface boundary=\"reflective\" coeffs=\"0.63\" id=\"16\" type=\"y-plane\" />\r\n",
      "  <surface boundary=\"reflective\" coeffs=\"75\" id=\"17\" type=\"z-plane\" />\r\n",
      "  <surface boundary=\"reflective\" coeffs=\"-75\" id=\"18\" type=\"z-plane\" />\r\n",
      "</geometry>\r\n"
     ]
    }
   ],
   "source": [
    "root = openmc.Universe(cells=(fuel, gap, clad, moderator))\n",
    "geom = openmc.Geometry(root)\n",
    "geom.export_to_xml()\n",
    "!cat geometry.xml"
   ]
  },
  {
   "cell_type": "code",
   "execution_count": 14,
   "metadata": {},
   "outputs": [],
   "source": [
    "settings = openmc.Settings()\n",
    "settings.batches = 100\n",
    "settings.inactive = 20\n",
    "settings.particles = 1000"
   ]
  },
  {
   "cell_type": "code",
   "execution_count": 15,
   "metadata": {},
   "outputs": [
    {
     "name": "stdout",
     "output_type": "stream",
     "text": [
      "<?xml version='1.0' encoding='utf-8'?>\r\n",
      "<settings>\r\n",
      "  <run_mode>eigenvalue</run_mode>\r\n",
      "  <particles>1000</particles>\r\n",
      "  <batches>100</batches>\r\n",
      "  <inactive>20</inactive>\r\n",
      "</settings>\r\n"
     ]
    }
   ],
   "source": [
    "settings.export_to_xml()\n",
    "!cat settings.xml"
   ]
  },
  {
   "cell_type": "code",
   "execution_count": 16,
   "metadata": {},
   "outputs": [
    {
     "name": "stdout",
     "output_type": "stream",
     "text": [
      "\n",
      "                               %%%%%%%%%%%%%%%\n",
      "                          %%%%%%%%%%%%%%%%%%%%%%%%\n",
      "                       %%%%%%%%%%%%%%%%%%%%%%%%%%%%%%\n",
      "                     %%%%%%%%%%%%%%%%%%%%%%%%%%%%%%%%%%\n",
      "                   %%%%%%%%%%%%%%%%%%%%%%%%%%%%%%%%%%%%%%\n",
      "                  %%%%%%%%%%%%%%%%%%%%%%%%%%%%%%%%%%%%%%%%\n",
      "                                   %%%%%%%%%%%%%%%%%%%%%%%%\n",
      "                                    %%%%%%%%%%%%%%%%%%%%%%%%\n",
      "                ###############      %%%%%%%%%%%%%%%%%%%%%%%%\n",
      "               ##################     %%%%%%%%%%%%%%%%%%%%%%%\n",
      "               ###################     %%%%%%%%%%%%%%%%%%%%%%%\n",
      "               ####################     %%%%%%%%%%%%%%%%%%%%%%\n",
      "               #####################     %%%%%%%%%%%%%%%%%%%%%\n",
      "               ######################     %%%%%%%%%%%%%%%%%%%%\n",
      "               #######################     %%%%%%%%%%%%%%%%%%\n",
      "                #######################     %%%%%%%%%%%%%%%%%\n",
      "                ######################     %%%%%%%%%%%%%%%%%\n",
      "                 ####################     %%%%%%%%%%%%%%%%%\n",
      "                   #################     %%%%%%%%%%%%%%%%%\n",
      "                    ###############     %%%%%%%%%%%%%%%%\n",
      "                      ############     %%%%%%%%%%%%%%%\n",
      "                         ########     %%%%%%%%%%%%%%\n",
      "                                     %%%%%%%%%%%\n",
      "\n",
      "                   | The OpenMC Monte Carlo Code\n",
      "         Copyright | 2011-2018 Massachusetts Institute of Technology\n",
      "           License | http://openmc.readthedocs.io/en/latest/license.html\n",
      "           Version | 0.10.0\n",
      "          Git SHA1 | 455efffdbf6eacbc0b3b93ad61cfeb24490897d8\n",
      "         Date/Time | 2019-09-10 12:11:15\n",
      "    OpenMP Threads | 4\n",
      "\n",
      " Reading settings XML file...\n",
      " Reading cross sections XML file...\n",
      " Reading materials XML file...\n",
      " Reading geometry XML file...\n",
      " Building neighboring cells lists for each surface...\n",
      " Reading U235 from /home/stevejr/opt/openmc/build/nndc_hdf5/U235.h5\n",
      " Reading U238 from /home/stevejr/opt/openmc/build/nndc_hdf5/U238.h5\n",
      " Reading O16 from /home/stevejr/opt/openmc/build/nndc_hdf5/O16.h5\n",
      " Reading Zr90 from /home/stevejr/opt/openmc/build/nndc_hdf5/Zr90.h5\n",
      " Reading Zr91 from /home/stevejr/opt/openmc/build/nndc_hdf5/Zr91.h5\n",
      " Reading Zr92 from /home/stevejr/opt/openmc/build/nndc_hdf5/Zr92.h5\n",
      " Reading Zr94 from /home/stevejr/opt/openmc/build/nndc_hdf5/Zr94.h5\n",
      " Reading Zr96 from /home/stevejr/opt/openmc/build/nndc_hdf5/Zr96.h5\n",
      " Reading H1 from /home/stevejr/opt/openmc/build/nndc_hdf5/H1.h5\n",
      " Reading O17 from /home/stevejr/opt/openmc/build/nndc_hdf5/O17.h5\n",
      " Reading c_H_in_H2O from /home/stevejr/opt/openmc/build/nndc_hdf5/c_H_in_H2O.h5\n",
      " Maximum neutron transport energy: 2.00000E+07 eV for U235\n",
      " Writing summary.h5 file...\n",
      " Initializing source particles...\n",
      "\n",
      " ====================>     K EIGENVALUE SIMULATION     <====================\n",
      "\n",
      "  Bat./Gen.      k            Average k         \n",
      "  =========   ========   ====================   \n",
      "        1/1    1.32572                       \n",
      "        2/1    1.45808                       \n",
      "        3/1    1.45237                       \n",
      "        4/1    1.43110                       \n",
      "        5/1    1.28574                       \n",
      "        6/1    1.43496                       \n",
      "        7/1    1.36543                       \n",
      "        8/1    1.47914                       \n",
      "        9/1    1.37900                       \n",
      "       10/1    1.37828                       \n",
      "       11/1    1.29579                       \n",
      "       12/1    1.32185                       \n",
      "       13/1    1.47178                       \n",
      "       14/1    1.46587                       \n",
      "       15/1    1.34504                       \n",
      "       16/1    1.42284                       \n",
      "       17/1    1.42258                       \n",
      "       18/1    1.41862                       \n",
      "       19/1    1.33650                       \n",
      "       20/1    1.49676                       \n",
      "       21/1    1.37114                       \n",
      "       22/1    1.37746    1.37430 +/- 0.00316\n",
      "       23/1    1.45236    1.40032 +/- 0.02608\n",
      "       24/1    1.36168    1.39066 +/- 0.02082\n",
      "       25/1    1.35045    1.38262 +/- 0.01802\n",
      "       26/1    1.39746    1.38509 +/- 0.01492\n",
      "       27/1    1.40948    1.38858 +/- 0.01308\n",
      "       28/1    1.35014    1.38377 +/- 0.01231\n",
      "       29/1    1.31586    1.37623 +/- 0.01322\n",
      "       30/1    1.36766    1.37537 +/- 0.01185\n",
      "       31/1    1.34562    1.37267 +/- 0.01106\n",
      "       32/1    1.38231    1.37347 +/- 0.01013\n",
      "       33/1    1.35410    1.37198 +/- 0.00943\n",
      "       34/1    1.44152    1.37695 +/- 0.01005\n",
      "       35/1    1.44403    1.38142 +/- 0.01037\n",
      "       36/1    1.38691    1.38176 +/- 0.00970\n",
      "       37/1    1.38023    1.38167 +/- 0.00912\n",
      "       38/1    1.30885    1.37763 +/- 0.00950\n",
      "       39/1    1.36886    1.37716 +/- 0.00900\n",
      "       40/1    1.48705    1.38266 +/- 0.01015\n",
      "       41/1    1.37625    1.38235 +/- 0.00966\n",
      "       42/1    1.33898    1.38038 +/- 0.00942\n",
      "       43/1    1.43659    1.38283 +/- 0.00933\n",
      "       44/1    1.34313    1.38117 +/- 0.00908\n",
      "       45/1    1.28316    1.37725 +/- 0.00955\n",
      "       46/1    1.36943    1.37695 +/- 0.00918\n",
      "       47/1    1.39853    1.37775 +/- 0.00887\n",
      "       48/1    1.32132    1.37573 +/- 0.00878\n",
      "       49/1    1.31060    1.37349 +/- 0.00877\n",
      "       50/1    1.29321    1.37081 +/- 0.00888\n",
      "       51/1    1.34395    1.36995 +/- 0.00864\n",
      "       52/1    1.43913    1.37211 +/- 0.00864\n",
      "       53/1    1.35400    1.37156 +/- 0.00839\n",
      "       54/1    1.25020    1.36799 +/- 0.00889\n",
      "       55/1    1.40348    1.36900 +/- 0.00869\n",
      "       56/1    1.35887    1.36872 +/- 0.00845\n",
      "       57/1    1.37320    1.36884 +/- 0.00822\n",
      "       58/1    1.34262    1.36815 +/- 0.00803\n",
      "       59/1    1.37285    1.36827 +/- 0.00782\n",
      "       60/1    1.38396    1.36867 +/- 0.00763\n",
      "       61/1    1.37094    1.36872 +/- 0.00744\n",
      "       62/1    1.26186    1.36618 +/- 0.00770\n",
      "       63/1    1.34867    1.36577 +/- 0.00753\n",
      "       64/1    1.34929    1.36539 +/- 0.00736\n",
      "       65/1    1.39758    1.36611 +/- 0.00723\n",
      "       66/1    1.44605    1.36785 +/- 0.00728\n",
      "       67/1    1.37468    1.36799 +/- 0.00713\n",
      "       68/1    1.42786    1.36924 +/- 0.00709\n",
      "       69/1    1.39234    1.36971 +/- 0.00696\n",
      "       70/1    1.35104    1.36934 +/- 0.00683\n",
      "       71/1    1.33394    1.36864 +/- 0.00673\n",
      "       72/1    1.30501    1.36742 +/- 0.00671\n",
      "       73/1    1.35505    1.36719 +/- 0.00659\n",
      "       74/1    1.36666    1.36718 +/- 0.00646\n",
      "       75/1    1.38159    1.36744 +/- 0.00635\n",
      "       76/1    1.37566    1.36759 +/- 0.00624\n",
      "       77/1    1.33764    1.36706 +/- 0.00615\n",
      "       78/1    1.28488    1.36564 +/- 0.00621\n",
      "       79/1    1.39693    1.36617 +/- 0.00612\n",
      "       80/1    1.39490    1.36665 +/- 0.00604\n",
      "       81/1    1.32529    1.36598 +/- 0.00598\n",
      "       82/1    1.33892    1.36554 +/- 0.00590\n",
      "       83/1    1.31157    1.36468 +/- 0.00587\n",
      "       84/1    1.33103    1.36416 +/- 0.00580\n",
      "       85/1    1.41775    1.36498 +/- 0.00577\n",
      "       86/1    1.33724    1.36456 +/- 0.00570\n",
      "       87/1    1.33279    1.36409 +/- 0.00563\n",
      "       88/1    1.23183    1.36214 +/- 0.00588\n",
      "       89/1    1.37824    1.36237 +/- 0.00580\n",
      "       90/1    1.38798    1.36274 +/- 0.00572\n",
      "       91/1    1.37438    1.36290 +/- 0.00565\n",
      "       92/1    1.29111    1.36191 +/- 0.00566\n",
      "       93/1    1.36413    1.36194 +/- 0.00558\n",
      "       94/1    1.41153    1.36261 +/- 0.00554\n",
      "       95/1    1.41073    1.36325 +/- 0.00551\n",
      "       96/1    1.44673    1.36435 +/- 0.00554\n",
      "       97/1    1.45634    1.36554 +/- 0.00560\n",
      "       98/1    1.34996    1.36534 +/- 0.00553\n",
      "       99/1    1.50398    1.36710 +/- 0.00573\n",
      "      100/1    1.33712    1.36672 +/- 0.00568\n",
      " Creating state point statepoint.100.h5...\n",
      "\n",
      " =======================>     TIMING STATISTICS     <=======================\n",
      "\n",
      " Total time for initialization     =  8.9391E-01 seconds\n",
      "   Reading cross sections          =  8.1127E-01 seconds\n",
      " Total time in simulation          =  1.1598E+01 seconds\n",
      "   Time in transport only          =  1.1394E+01 seconds\n",
      "   Time in inactive batches        =  1.4803E+00 seconds\n",
      "   Time in active batches          =  1.0117E+01 seconds\n",
      "   Time synchronizing fission bank =  3.8156E-03 seconds\n",
      "     Sampling source sites         =  2.8653E-03 seconds\n",
      "     SEND/RECV source sites        =  8.0220E-04 seconds\n",
      "   Time accumulating tallies       =  1.2226E-04 seconds\n",
      " Total time for finalization       =  1.4232E-03 seconds\n",
      " Total time elapsed                =  1.2497E+01 seconds\n",
      " Calculation Rate (inactive)       =  13510.5 neutrons/second\n",
      " Calculation Rate (active)         =  7907.15 neutrons/second\n",
      "\n",
      " ============================>     RESULTS     <============================\n",
      "\n",
      " k-effective (Collision)     =  1.36747 +/-  0.00494\n",
      " k-effective (Track-length)  =  1.36672 +/-  0.00568\n",
      " k-effective (Absorption)    =  1.36072 +/-  0.00335\n",
      " Combined k-effective        =  1.36250 +/-  0.00309\n",
      " Leakage Fraction            =  0.00000 +/-  0.00000\n",
      "\n"
     ]
    },
    {
     "data": {
      "text/plain": [
       "0"
      ]
     },
     "execution_count": 16,
     "metadata": {},
     "output_type": "execute_result"
    }
   ],
   "source": [
    "openmc.run()"
   ]
  },
  {
   "cell_type": "code",
   "execution_count": 17,
   "metadata": {},
   "outputs": [
    {
     "data": {
      "text/plain": [
       "0"
      ]
     },
     "execution_count": 17,
     "metadata": {},
     "output_type": "execute_result"
    }
   ],
   "source": [
    "p1 = openmc.Plot()\n",
    "p1.basis = 'xz'\n",
    "p1.filename = 'pinplot_xz'\n",
    "p1.width = (-1.26,150)\n",
    "p1.pixels = (500, 500)\n",
    "p1.color_by = 'material'\n",
    "p1.colors = {uo2: 'yellow', water: 'blue'}\n",
    "plots = openmc.Plots([p1])\n",
    "plots.export_to_xml()\n",
    "openmc.plot_geometry(output=False)"
   ]
  },
  {
   "cell_type": "code",
   "execution_count": 18,
   "metadata": {},
   "outputs": [
    {
     "data": {
      "text/plain": [
       "0"
      ]
     },
     "execution_count": 18,
     "metadata": {},
     "output_type": "execute_result"
    }
   ],
   "source": [
    "p2 = openmc.Plot()\n",
    "p2.basis = 'xy'\n",
    "p2.filename = 'pinplot_xy'\n",
    "p2.width = (-1.26,1.26)\n",
    "p2.pixels = (200, 200)\n",
    "p2.color_by = 'material'\n",
    "p2.colors = {uo2: 'yellow', water: 'blue'}\n",
    "plots = openmc.Plots([p2])\n",
    "plots.export_to_xml()\n",
    "openmc.plot_geometry(output=False)"
   ]
  },
  {
   "cell_type": "code",
   "execution_count": 19,
   "metadata": {},
   "outputs": [
    {
     "data": {
      "image/png": "[encoded data removed]",
      "text/plain": [
       "<IPython.core.display.Image object>"
      ]
     },
     "metadata": {},
     "output_type": "display_data"
    }
   ],
   "source": [
    "openmc.plot_inline(p1)"
   ]
  },
  {
   "cell_type": "code",
   "execution_count": 20,
   "metadata": {},
   "outputs": [
    {
     "data": {
      "image/png": "[encoded data removed]",
      "text/plain": [
       "<IPython.core.display.Image object>"
      ]
     },
     "metadata": {},
     "output_type": "display_data"
    }
   ],
   "source": [
    "openmc.plot_inline(p2)"
   ]
  }
 ],
 "metadata": {
  "kernelspec": {
   "display_name": "Python 3",
   "language": "python",
   "name": "python3"
  },
  "language_info": {
   "codemirror_mode": {
    "name": "ipython",
    "version": 3
   },
   "file_extension": ".py",
   "mimetype": "text/x-python",
   "name": "python",
   "nbconvert_exporter": "python",
   "pygments_lexer": "ipython3",
   "version": "3.7.3"
  }
 },
 "nbformat": 4,
 "nbformat_minor": 2
}
