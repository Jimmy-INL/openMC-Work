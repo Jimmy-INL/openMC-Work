{
 "cells": [
  {
   "cell_type": "code",
   "execution_count": 1,
   "metadata": {},
   "outputs": [],
   "source": [
    "%matplotlib inline\n",
    "import openmc"
   ]
  },
  {
   "cell_type": "code",
   "execution_count": 2,
   "metadata": {},
   "outputs": [
    {
     "name": "stdout",
     "output_type": "stream",
     "text": [
      "Material\n",
      "\tID             =\t1\n",
      "\tName           =\tuo2\n",
      "\tTemperature    =\tNone\n",
      "\tDensity        =\t10.0 [g/cm3]\n",
      "\tS(a,b) Tables  \n",
      "\tNuclides       \n",
      "\tU235           =\t0.03         [ao]\n",
      "\tU238           =\t0.97         [ao]\n",
      "\tO16            =\t2.0          [ao]\n",
      "\n"
     ]
    }
   ],
   "source": [
    "# Create uranium di oxide at 3% enrichment and 10g/cm3\n",
    "uo2 = openmc.Material(1,\"uo2\")\n",
    "uo2.add_nuclide('U235', 0.03)\n",
    "uo2.add_nuclide('U238', 0.97)\n",
    "uo2.add_nuclide('O16', 2.0)\n",
    "uo2.set_density('g/cm3', 10.0)\n",
    "print(uo2)"
   ]
  },
  {
   "cell_type": "code",
   "execution_count": 3,
   "metadata": {},
   "outputs": [
    {
     "name": "stdout",
     "output_type": "stream",
     "text": [
      "Material\n",
      "\tID             =\t2\n",
      "\tName           =\tzirconium\n",
      "\tTemperature    =\tNone\n",
      "\tDensity        =\t6.6 [g/cm3]\n",
      "\tS(a,b) Tables  \n",
      "\tNuclides       \n",
      "\tZr90           =\t0.5145       [ao]\n",
      "\tZr91           =\t0.1122       [ao]\n",
      "\tZr92           =\t0.1715       [ao]\n",
      "\tZr94           =\t0.1738       [ao]\n",
      "\tZr96           =\t0.028        [ao]\n",
      "\n"
     ]
    }
   ],
   "source": [
    "# Create zirconium for cladding at 6.6 g/cm3\n",
    "zirconium = openmc.Material(2, \"zirconium\")\n",
    "zirconium.add_element('Zr', 1.0)\n",
    "zirconium.set_density('g/cm3', 6.6)\n",
    "print(zirconium)"
   ]
  },
  {
   "cell_type": "code",
   "execution_count": 4,
   "metadata": {},
   "outputs": [
    {
     "name": "stdout",
     "output_type": "stream",
     "text": [
      "Material\n",
      "\tID             =\t3\n",
      "\tName           =\th2o\n",
      "\tTemperature    =\tNone\n",
      "\tDensity        =\t1.0 [g/cm3]\n",
      "\tS(a,b) Tables  \n",
      "\tS(a,b)         =\t('c_H_in_H2O', 1.0)\n",
      "\tNuclides       \n",
      "\tH1             =\t2.0          [ao]\n",
      "\tO16            =\t0.999621     [ao]\n",
      "\tO17            =\t0.000379     [ao]\n",
      "\n"
     ]
    }
   ],
   "source": [
    "# Create water for moderator at 1.0 g/cm3\n",
    "water = openmc.Material(3, \"h2o\")\n",
    "water.add_nuclide('H1', 2.0)\n",
    "water.add_element('O', 1.0)\n",
    "water.set_density('g/cm3', 1.0)\n",
    "# Add H s(a,b) cross sections for thermal neutron scattering\n",
    "water.add_s_alpha_beta('c_H_in_H2O')\n",
    "print(water)"
   ]
  },
  {
   "cell_type": "code",
   "execution_count": 5,
   "metadata": {},
   "outputs": [
    {
     "name": "stdout",
     "output_type": "stream",
     "text": [
      "<?xml version='1.0' encoding='utf-8'?>\r\n",
      "<materials>\r\n",
      "  <material id=\"1\" name=\"uo2\">\r\n",
      "    <density units=\"g/cm3\" value=\"10.0\" />\r\n",
      "    <nuclide ao=\"0.03\" name=\"U235\" />\r\n",
      "    <nuclide ao=\"0.97\" name=\"U238\" />\r\n",
      "    <nuclide ao=\"2.0\" name=\"O16\" />\r\n",
      "  </material>\r\n",
      "  <material id=\"2\" name=\"zirconium\">\r\n",
      "    <density units=\"g/cm3\" value=\"6.6\" />\r\n",
      "    <nuclide ao=\"0.5145\" name=\"Zr90\" />\r\n",
      "    <nuclide ao=\"0.1122\" name=\"Zr91\" />\r\n",
      "    <nuclide ao=\"0.1715\" name=\"Zr92\" />\r\n",
      "    <nuclide ao=\"0.1738\" name=\"Zr94\" />\r\n",
      "    <nuclide ao=\"0.028\" name=\"Zr96\" />\r\n",
      "  </material>\r\n",
      "  <material id=\"3\" name=\"h2o\">\r\n",
      "    <density units=\"g/cm3\" value=\"1.0\" />\r\n",
      "    <nuclide ao=\"2.0\" name=\"H1\" />\r\n",
      "    <nuclide ao=\"0.999621\" name=\"O16\" />\r\n",
      "    <nuclide ao=\"0.000379\" name=\"O17\" />\r\n",
      "    <sab name=\"c_H_in_H2O\" />\r\n",
      "  </material>\r\n",
      "</materials>\r\n"
     ]
    }
   ],
   "source": [
    "# Export marterials created to materials.xml\n",
    "mats = openmc.Materials([uo2, zirconium, water])\n",
    "mats.export_to_xml()\n",
    "!cat materials.xml"
   ]
  },
  {
   "cell_type": "code",
   "execution_count": 6,
   "metadata": {},
   "outputs": [],
   "source": [
    "# Create surfaces for uranium cylinder\n",
    "fuel_or = openmc.ZCylinder(R=0.39)\n",
    "fuel_top = openmc.ZPlane(z0=49)\n",
    "fuel_bottom = openmc.ZPlane(z0=-49)\n",
    "\n",
    "# Create surfaces for cladding cylinder, cap, and tip\n",
    "clad_ir = openmc.ZCylinder(R=0.40)\n",
    "clad_or = openmc.ZCylinder(R=0.46)\n",
    "clad_tip_r = openmc.ZCylinder(R=0.26)\n",
    "clad_cap_top = openmc.ZPlane(z0=60)\n",
    "clad_tip_top = openmc.ZPlane(z0=65)\n",
    "clad_cap_bottom = openmc.ZPlane(z0=-60)\n",
    "clad_tip_bottom = openmc.ZPlane(z0=-65)\n",
    "\n",
    "# Crate top and bottom surfaces for gap between fuel and cladding\n",
    "gap_top = openmc.ZPlane(z0=50)\n",
    "gap_bottom = openmc.ZPlane(z0=-50)\n",
    "\n",
    "# Create a cylinder to bound the surface of the moderator around the pin cell\n",
    "pitch = 1.26\n",
    "back = openmc.XPlane(x0=-pitch/2, boundary_type='vacuum')\n",
    "front = openmc.XPlane(x0=pitch/2, boundary_type='vacuum')\n",
    "left = openmc.YPlane(y0=-pitch/2, boundary_type='vacuum')\n",
    "right = openmc.YPlane(y0=pitch/2, boundary_type='vacuum')\n",
    "top = openmc.ZPlane(z0=75, boundary_type='vacuum')\n",
    "bottom = openmc.ZPlane(z0=-75, boundary_type='vacuum')"
   ]
  },
  {
   "cell_type": "code",
   "execution_count": 7,
   "metadata": {},
   "outputs": [],
   "source": [
    "# Create a region for the fuel in a cylinder\n",
    "fuel_region = -fuel_or & +fuel_bottom & -fuel_top\n",
    "\n",
    "# Create regions for the cladding cylinder, caps, and tips\n",
    "clad_region_cyl = +clad_ir & -clad_or & +gap_bottom & -gap_top\n",
    "clad_region_cap_top = +gap_top & -clad_cap_top & -clad_or\n",
    "clad_region_cap_bottom = -gap_bottom & +clad_cap_bottom & -clad_or\n",
    "clad_region_tip_top = +clad_cap_top & -clad_tip_top & -clad_tip_r\n",
    "clad_region_tip_bottom = -clad_cap_bottom & +clad_tip_bottom & -clad_tip_r\n",
    "\n",
    "# Create a region for the gap between the cladding and the fuel\n",
    "gap_region_cyl = +fuel_or & -clad_ir & +fuel_bottom & -fuel_top \n",
    "gap_region_top = +fuel_top & -gap_top & -clad_ir\n",
    "gap_region_bottom = -fuel_bottom & +gap_bottom & -clad_ir"
   ]
  },
  {
   "cell_type": "code",
   "execution_count": 8,
   "metadata": {},
   "outputs": [],
   "source": [
    "# Create regions for the water along each horizontal area with different cladding regions\n",
    "water_region_r = +left & -right & +back & -front & -clad_cap_top & +clad_cap_bottom & +clad_or\n",
    "water_region_tip_t = +left & -right & +back & -front & +clad_cap_top & -clad_tip_top & +clad_tip_r\n",
    "water_region_tip_b = +left & -right & +back & -front & -clad_cap_bottom & +clad_tip_bottom & +clad_tip_r\n",
    "water_region_t = +left & -right & +back & -front & +clad_tip_top & -top\n",
    "water_region_b = +left & -right & +back & -front & -clad_tip_bottom & +bottom"
   ]
  },
  {
   "cell_type": "code",
   "execution_count": 9,
   "metadata": {},
   "outputs": [],
   "source": [
    "# Create a fuel cell with uranium dioxide material\n",
    "fuel = openmc.Cell(1, 'fuel')\n",
    "fuel.fill = uo2\n",
    "fuel.region = fuel_region"
   ]
  },
  {
   "cell_type": "code",
   "execution_count": 10,
   "metadata": {},
   "outputs": [],
   "source": [
    "# Create a gap cell with void material\n",
    "gap = openmc.Cell(2, 'air gap')\n",
    "gap.region = gap_region_cyl | gap_region_top | gap_region_bottom"
   ]
  },
  {
   "cell_type": "code",
   "execution_count": 11,
   "metadata": {},
   "outputs": [],
   "source": [
    "# Create a clad cell with zirconium material\n",
    "clad = openmc.Cell(3, 'clad')\n",
    "clad.fill = zirconium\n",
    "clad.region = clad_region_cyl | clad_region_cap_top | clad_region_cap_bottom | clad_region_tip_top | clad_region_tip_bottom"
   ]
  },
  {
   "cell_type": "code",
   "execution_count": 12,
   "metadata": {},
   "outputs": [],
   "source": [
    "# Create a moderator cell with water material\n",
    "moderator = openmc.Cell(4, 'moderator')\n",
    "moderator.fill = water\n",
    "moderator.region = water_region_r | water_region_tip_t | water_region_tip_b | water_region_t | water_region_b"
   ]
  },
  {
   "cell_type": "code",
   "execution_count": 13,
   "metadata": {},
   "outputs": [
    {
     "name": "stdout",
     "output_type": "stream",
     "text": [
      "<?xml version='1.0' encoding='utf-8'?>\r\n",
      "<geometry>\r\n",
      "  <cell id=\"1\" material=\"1\" name=\"fuel\" region=\"-1 3 -2\" universe=\"1\" />\r\n",
      "  <cell id=\"2\" material=\"void\" name=\"air gap\" region=\"(1 -4 3 -2) | (2 -11 -4) | (-3 12 -4)\" universe=\"1\" />\r\n",
      "  <cell id=\"3\" material=\"2\" name=\"clad\" region=\"(4 -5 12 -11) | (11 -7 -5) | (-12 9 -5) | (7 -8 -6) | (-9 10 -6)\" universe=\"1\" />\r\n",
      "  <cell id=\"4\" material=\"3\" name=\"moderator\" region=\"(15 -16 13 -14 -7 9 5) | (15 -16 13 -14 7 -8 6) | (15 -16 13 -14 -9 10 6) | (15 -16 13 -14 8 -17) | (15 -16 13 -14 -10 18)\" universe=\"1\" />\r\n",
      "  <surface coeffs=\"0.0 0.0 0.39\" id=\"1\" type=\"z-cylinder\" />\r\n",
      "  <surface coeffs=\"49\" id=\"2\" type=\"z-plane\" />\r\n",
      "  <surface coeffs=\"-49\" id=\"3\" type=\"z-plane\" />\r\n",
      "  <surface coeffs=\"0.0 0.0 0.4\" id=\"4\" type=\"z-cylinder\" />\r\n",
      "  <surface coeffs=\"0.0 0.0 0.46\" id=\"5\" type=\"z-cylinder\" />\r\n",
      "  <surface coeffs=\"0.0 0.0 0.26\" id=\"6\" type=\"z-cylinder\" />\r\n",
      "  <surface coeffs=\"60\" id=\"7\" type=\"z-plane\" />\r\n",
      "  <surface coeffs=\"65\" id=\"8\" type=\"z-plane\" />\r\n",
      "  <surface coeffs=\"-60\" id=\"9\" type=\"z-plane\" />\r\n",
      "  <surface coeffs=\"-65\" id=\"10\" type=\"z-plane\" />\r\n",
      "  <surface coeffs=\"50\" id=\"11\" type=\"z-plane\" />\r\n",
      "  <surface coeffs=\"-50\" id=\"12\" type=\"z-plane\" />\r\n",
      "  <surface boundary=\"vacuum\" coeffs=\"-0.63\" id=\"13\" type=\"x-plane\" />\r\n",
      "  <surface boundary=\"vacuum\" coeffs=\"0.63\" id=\"14\" type=\"x-plane\" />\r\n",
      "  <surface boundary=\"vacuum\" coeffs=\"-0.63\" id=\"15\" type=\"y-plane\" />\r\n",
      "  <surface boundary=\"vacuum\" coeffs=\"0.63\" id=\"16\" type=\"y-plane\" />\r\n",
      "  <surface boundary=\"vacuum\" coeffs=\"75\" id=\"17\" type=\"z-plane\" />\r\n",
      "  <surface boundary=\"vacuum\" coeffs=\"-75\" id=\"18\" type=\"z-plane\" />\r\n",
      "</geometry>\r\n"
     ]
    }
   ],
   "source": [
    "# Create a root universe and export the geometry to geometry.xml\n",
    "root = openmc.Universe(cells=(fuel, gap, clad, moderator))\n",
    "geom = openmc.Geometry(root)\n",
    "geom.export_to_xml()\n",
    "!cat geometry.xml"
   ]
  },
  {
   "cell_type": "code",
   "execution_count": 14,
   "metadata": {},
   "outputs": [],
   "source": [
    "# Set openmc to run 100 batches of 1000 cells with 20 batches not changing the average\n",
    "settings = openmc.Settings()\n",
    "settings.batches = 100\n",
    "settings.inactive = 20\n",
    "settings.particles = 1000"
   ]
  },
  {
   "cell_type": "code",
   "execution_count": 15,
   "metadata": {},
   "outputs": [
    {
     "name": "stdout",
     "output_type": "stream",
     "text": [
      "<?xml version='1.0' encoding='utf-8'?>\r\n",
      "<settings>\r\n",
      "  <run_mode>eigenvalue</run_mode>\r\n",
      "  <particles>1000</particles>\r\n",
      "  <batches>100</batches>\r\n",
      "  <inactive>20</inactive>\r\n",
      "</settings>\r\n"
     ]
    }
   ],
   "source": [
    "# Export settings to settings.xml\n",
    "settings.export_to_xml()\n",
    "!cat settings.xml"
   ]
  },
  {
   "cell_type": "code",
   "execution_count": 16,
   "metadata": {},
   "outputs": [
    {
     "name": "stdout",
     "output_type": "stream",
     "text": [
      "\n",
      "                               %%%%%%%%%%%%%%%\n",
      "                          %%%%%%%%%%%%%%%%%%%%%%%%\n",
      "                       %%%%%%%%%%%%%%%%%%%%%%%%%%%%%%\n",
      "                     %%%%%%%%%%%%%%%%%%%%%%%%%%%%%%%%%%\n",
      "                   %%%%%%%%%%%%%%%%%%%%%%%%%%%%%%%%%%%%%%\n",
      "                  %%%%%%%%%%%%%%%%%%%%%%%%%%%%%%%%%%%%%%%%\n",
      "                                   %%%%%%%%%%%%%%%%%%%%%%%%\n",
      "                                    %%%%%%%%%%%%%%%%%%%%%%%%\n",
      "                ###############      %%%%%%%%%%%%%%%%%%%%%%%%\n",
      "               ##################     %%%%%%%%%%%%%%%%%%%%%%%\n",
      "               ###################     %%%%%%%%%%%%%%%%%%%%%%%\n",
      "               ####################     %%%%%%%%%%%%%%%%%%%%%%\n",
      "               #####################     %%%%%%%%%%%%%%%%%%%%%\n",
      "               ######################     %%%%%%%%%%%%%%%%%%%%\n",
      "               #######################     %%%%%%%%%%%%%%%%%%\n",
      "                #######################     %%%%%%%%%%%%%%%%%\n",
      "                ######################     %%%%%%%%%%%%%%%%%\n",
      "                 ####################     %%%%%%%%%%%%%%%%%\n",
      "                   #################     %%%%%%%%%%%%%%%%%\n",
      "                    ###############     %%%%%%%%%%%%%%%%\n",
      "                      ############     %%%%%%%%%%%%%%%\n",
      "                         ########     %%%%%%%%%%%%%%\n",
      "                                     %%%%%%%%%%%\n",
      "\n",
      "                   | The OpenMC Monte Carlo Code\n",
      "         Copyright | 2011-2018 Massachusetts Institute of Technology\n",
      "           License | http://openmc.readthedocs.io/en/latest/license.html\n",
      "           Version | 0.10.0\n",
      "          Git SHA1 | 455efffdbf6eacbc0b3b93ad61cfeb24490897d8\n",
      "         Date/Time | 2019-09-13 01:18:14\n",
      "    OpenMP Threads | 4\n",
      "\n",
      " Reading settings XML file...\n",
      " Reading cross sections XML file...\n",
      " Reading materials XML file...\n",
      " Reading geometry XML file...\n",
      " Building neighboring cells lists for each surface...\n",
      " Reading U235 from /home/stevejr/opt/openmc/build/nndc_hdf5/U235.h5\n",
      " Reading U238 from /home/stevejr/opt/openmc/build/nndc_hdf5/U238.h5\n",
      " Reading O16 from /home/stevejr/opt/openmc/build/nndc_hdf5/O16.h5\n",
      " Reading Zr90 from /home/stevejr/opt/openmc/build/nndc_hdf5/Zr90.h5\n",
      " Reading Zr91 from /home/stevejr/opt/openmc/build/nndc_hdf5/Zr91.h5\n",
      " Reading Zr92 from /home/stevejr/opt/openmc/build/nndc_hdf5/Zr92.h5\n",
      " Reading Zr94 from /home/stevejr/opt/openmc/build/nndc_hdf5/Zr94.h5\n",
      " Reading Zr96 from /home/stevejr/opt/openmc/build/nndc_hdf5/Zr96.h5\n",
      " Reading H1 from /home/stevejr/opt/openmc/build/nndc_hdf5/H1.h5\n",
      " Reading O17 from /home/stevejr/opt/openmc/build/nndc_hdf5/O17.h5\n",
      " Reading c_H_in_H2O from /home/stevejr/opt/openmc/build/nndc_hdf5/c_H_in_H2O.h5\n",
      " Maximum neutron transport energy: 2.00000E+07 eV for U235\n",
      " Writing summary.h5 file...\n",
      " Initializing source particles...\n",
      "\n",
      " ====================>     K EIGENVALUE SIMULATION     <====================\n",
      "\n",
      "  Bat./Gen.      k            Average k         \n",
      "  =========   ========   ====================   \n",
      "        1/1    0.01243                       \n",
      "        2/1    0.00821                       \n",
      "        3/1    0.00981                       \n",
      "        4/1    0.01064                       \n",
      "        5/1    0.01061                       \n",
      "        6/1    0.00945                       \n",
      "        7/1    0.01033                       \n",
      "        8/1    0.01012                       \n",
      "        9/1    0.01006                       \n",
      "       10/1    0.01062                       \n",
      "       11/1    0.00956                       \n",
      "       12/1    0.00976                       \n",
      "       13/1    0.00959                       \n",
      "       14/1    0.01022                       \n",
      "       15/1    0.01067                       \n",
      "       16/1    0.00995                       \n",
      "       17/1    0.01034                       \n",
      "       18/1    0.01102                       \n",
      "       19/1    0.01134                       \n",
      "       20/1    0.00986                       \n",
      "       21/1    0.00952                       \n",
      "       22/1    0.01009    0.00981 +/- 0.00029\n",
      "       23/1    0.01101    0.01021 +/- 0.00043\n",
      "       24/1    0.00996    0.01015 +/- 0.00031\n",
      "       25/1    0.01178    0.01047 +/- 0.00041\n",
      "       26/1    0.01070    0.01051 +/- 0.00033\n",
      "       27/1    0.01008    0.01045 +/- 0.00029\n",
      "       28/1    0.00983    0.01037 +/- 0.00026\n",
      "       29/1    0.00972    0.01030 +/- 0.00024\n",
      "       30/1    0.01087    0.01036 +/- 0.00022\n",
      "       31/1    0.00883    0.01022 +/- 0.00025\n",
      "       32/1    0.01082    0.01027 +/- 0.00023\n",
      "       33/1    0.01025    0.01027 +/- 0.00021\n",
      "       34/1    0.01074    0.01030 +/- 0.00020\n",
      "       35/1    0.01018    0.01029 +/- 0.00018\n",
      "       36/1    0.01077    0.01032 +/- 0.00018\n",
      "       37/1    0.01047    0.01033 +/- 0.00017\n",
      "       38/1    0.01020    0.01032 +/- 0.00016\n",
      "       39/1    0.01059    0.01034 +/- 0.00015\n",
      "       40/1    0.01030    0.01034 +/- 0.00014\n",
      "       41/1    0.01107    0.01037 +/- 0.00014\n",
      "       42/1    0.01073    0.01039 +/- 0.00013\n",
      "       43/1    0.00944    0.01035 +/- 0.00013\n",
      "       44/1    0.01104    0.01037 +/- 0.00013\n",
      "       45/1    0.01025    0.01037 +/- 0.00013\n",
      "       46/1    0.01057    0.01038 +/- 0.00012\n",
      "       47/1    0.01088    0.01040 +/- 0.00012\n",
      "       48/1    0.01130    0.01043 +/- 0.00012\n",
      "       49/1    0.00964    0.01040 +/- 0.00012\n",
      "       50/1    0.01239    0.01047 +/- 0.00013\n",
      "       51/1    0.01033    0.01046 +/- 0.00013\n",
      "       52/1    0.01027    0.01046 +/- 0.00012\n",
      "       53/1    0.01023    0.01045 +/- 0.00012\n",
      "       54/1    0.01037    0.01045 +/- 0.00012\n",
      "       55/1    0.01058    0.01045 +/- 0.00011\n",
      "       56/1    0.00986    0.01043 +/- 0.00011\n",
      "       57/1    0.01094    0.01045 +/- 0.00011\n",
      "       58/1    0.01041    0.01045 +/- 0.00011\n",
      "       59/1    0.00952    0.01042 +/- 0.00011\n",
      "       60/1    0.00936    0.01040 +/- 0.00011\n",
      "       61/1    0.01090    0.01041 +/- 0.00010\n",
      "       62/1    0.01067    0.01042 +/- 0.00010\n",
      "       63/1    0.00883    0.01038 +/- 0.00011\n",
      "       64/1    0.01011    0.01037 +/- 0.00010\n",
      "       65/1    0.00998    0.01036 +/- 0.00010\n",
      "       66/1    0.01062    0.01037 +/- 0.00010\n",
      "       67/1    0.01034    0.01037 +/- 0.00010\n",
      "       68/1    0.01009    0.01036 +/- 0.00010\n",
      "       69/1    0.01010    0.01036 +/- 0.00009\n",
      "       70/1    0.01035    0.01036 +/- 0.00009\n",
      "       71/1    0.01151    0.01038 +/- 0.00009\n",
      "       72/1    0.00969    0.01037 +/- 0.00009\n",
      "       73/1    0.01191    0.01040 +/- 0.00010\n",
      "       74/1    0.00978    0.01038 +/- 0.00009\n",
      "       75/1    0.01013    0.01038 +/- 0.00009\n",
      "       76/1    0.00972    0.01037 +/- 0.00009\n",
      "       77/1    0.01129    0.01038 +/- 0.00009\n",
      "       78/1    0.01062    0.01039 +/- 0.00009\n",
      "       79/1    0.01101    0.01040 +/- 0.00009\n",
      "       80/1    0.01016    0.01039 +/- 0.00009\n",
      "       81/1    0.00997    0.01039 +/- 0.00009\n",
      "       82/1    0.01118    0.01040 +/- 0.00009\n",
      "       83/1    0.01015    0.01040 +/- 0.00008\n",
      "       84/1    0.00980    0.01039 +/- 0.00008\n",
      "       85/1    0.00980    0.01038 +/- 0.00008\n",
      "       86/1    0.01057    0.01038 +/- 0.00008\n",
      "       87/1    0.01051    0.01038 +/- 0.00008\n",
      "       88/1    0.01089    0.01039 +/- 0.00008\n",
      "       89/1    0.00974    0.01038 +/- 0.00008\n",
      "       90/1    0.01052    0.01038 +/- 0.00008\n",
      "       91/1    0.01071    0.01039 +/- 0.00008\n",
      "       92/1    0.01200    0.01041 +/- 0.00008\n",
      "       93/1    0.01161    0.01043 +/- 0.00008\n",
      "       94/1    0.01103    0.01043 +/- 0.00008\n",
      "       95/1    0.01060    0.01044 +/- 0.00008\n",
      "       96/1    0.01118    0.01045 +/- 0.00008\n",
      "       97/1    0.01045    0.01045 +/- 0.00008\n",
      "       98/1    0.00985    0.01044 +/- 0.00008\n",
      "       99/1    0.01153    0.01045 +/- 0.00008\n",
      "      100/1    0.00966    0.01044 +/- 0.00008\n",
      " Creating state point statepoint.100.h5...\n",
      "\n",
      " =======================>     TIMING STATISTICS     <=======================\n",
      "\n",
      " Total time for initialization     =  1.0222E+00 seconds\n",
      "   Reading cross sections          =  9.4821E-01 seconds\n",
      " Total time in simulation          =  4.2513E-01 seconds\n",
      "   Time in transport only          =  3.5201E-01 seconds\n",
      "   Time in inactive batches        =  4.6323E-02 seconds\n",
      "   Time in active batches          =  3.7881E-01 seconds\n",
      "   Time synchronizing fission bank =  3.6137E-03 seconds\n",
      "     Sampling source sites         =  2.9451E-03 seconds\n",
      "     SEND/RECV source sites        =  5.6169E-04 seconds\n",
      "   Time accumulating tallies       =  6.1341E-05 seconds\n",
      " Total time for finalization       =  9.5020E-06 seconds\n",
      " Total time elapsed                =  1.4509E+00 seconds\n",
      " Calculation Rate (inactive)       =  4.31755E+05 neutrons/second\n",
      " Calculation Rate (active)         =  2.11187E+05 neutrons/second\n",
      "\n",
      " ============================>     RESULTS     <============================\n",
      "\n",
      " k-effective (Collision)     =  0.01046 +/-  0.00013\n",
      " k-effective (Track-length)  =  0.01044 +/-  0.00008\n",
      " k-effective (Absorption)    =  0.00987 +/-  0.00058\n",
      " Combined k-effective        =  0.01045 +/-  0.00008\n",
      " Leakage Fraction            =  0.99550 +/-  0.00024\n",
      "\n"
     ]
    },
    {
     "data": {
      "text/plain": [
       "0"
      ]
     },
     "execution_count": 16,
     "metadata": {},
     "output_type": "execute_result"
    }
   ],
   "source": [
    "# Run openmc\n",
    "openmc.run()"
   ]
  },
  {
   "cell_type": "code",
   "execution_count": 17,
   "metadata": {},
   "outputs": [
    {
     "data": {
      "text/plain": [
       "0"
      ]
     },
     "execution_count": 17,
     "metadata": {},
     "output_type": "execute_result"
    }
   ],
   "source": [
    "# Create plot of the pin cell in the xz plane\n",
    "p1 = openmc.Plot()\n",
    "p1.basis = 'xz'\n",
    "p1.filename = 'pinplot_xz'\n",
    "p1.width = (-1.26,150)\n",
    "p1.pixels = (500, 500)\n",
    "p1.color_by = 'material'\n",
    "p1.colors = {uo2: 'yellow', water: 'blue'}\n",
    "plots = openmc.Plots([p1])\n",
    "plots.export_to_xml()\n",
    "openmc.plot_geometry(output=False)"
   ]
  },
  {
   "cell_type": "code",
   "execution_count": 18,
   "metadata": {},
   "outputs": [
    {
     "data": {
      "text/plain": [
       "0"
      ]
     },
     "execution_count": 18,
     "metadata": {},
     "output_type": "execute_result"
    }
   ],
   "source": [
    "# Create plot of the pin cell in the xy plane\n",
    "p2 = openmc.Plot()\n",
    "p2.basis = 'xy'\n",
    "p2.filename = 'pinplot_xy'\n",
    "p2.width = (-1.26,1.26)\n",
    "p2.pixels = (200, 200)\n",
    "p2.color_by = 'material'\n",
    "p2.colors = {uo2: 'yellow', water: 'blue'}\n",
    "plots = openmc.Plots([p2])\n",
    "plots.export_to_xml()\n",
    "openmc.plot_geometry(output=False)"
   ]
  },
  {
   "cell_type": "code",
   "execution_count": 19,
   "metadata": {},
   "outputs": [
    {
     "data": {
      "image/png": "[encoded data removed]",
      "text/plain": [
       "<IPython.core.display.Image object>"
      ]
     },
     "metadata": {},
     "output_type": "display_data"
    }
   ],
   "source": [
    "# Show plot of xy plane\n",
    "# Plot is squished due to odd dimensions\n",
    "openmc.plot_inline(p1)"
   ]
  },
  {
   "cell_type": "code",
   "execution_count": 20,
   "metadata": {},
   "outputs": [
    {
     "data": {
      "image/png": "[encoded data removed]",
      "text/plain": [
       "<IPython.core.display.Image object>"
      ]
     },
     "metadata": {},
     "output_type": "display_data"
    }
   ],
   "source": [
    "# Show plot of xy plane\n",
    "openmc.plot_inline(p2)"
   ]
  }
 ],
 "metadata": {
  "kernelspec": {
   "display_name": "Python 3",
   "language": "python",
   "name": "python3"
  },
  "language_info": {
   "codemirror_mode": {
    "name": "ipython",
    "version": 3
   },
   "file_extension": ".py",
   "mimetype": "text/x-python",
   "name": "python",
   "nbconvert_exporter": "python",
   "pygments_lexer": "ipython3",
   "version": "3.7.3"
  }
 },
 "nbformat": 4,
 "nbformat_minor": 2
}
