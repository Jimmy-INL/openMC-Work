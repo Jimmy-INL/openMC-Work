{
 "cells": [
  {
   "cell_type": "code",
   "execution_count": 1,
   "metadata": {},
   "outputs": [],
   "source": [
    "%matplotlib inline\n",
    "import openmc"
   ]
  },
  {
   "cell_type": "code",
   "execution_count": 2,
   "metadata": {},
   "outputs": [
    {
     "name": "stdout",
     "output_type": "stream",
     "text": [
      "Material\n",
      "\tID             =\t1\n",
      "\tName           =\tuo2\n",
      "\tTemperature    =\tNone\n",
      "\tDensity        =\t10.0 [g/cm3]\n",
      "\tS(a,b) Tables  \n",
      "\tNuclides       \n",
      "\tU235           =\t0.03         [ao]\n",
      "\tU238           =\t0.97         [ao]\n",
      "\tO16            =\t2.0          [ao]\n",
      "\n"
     ]
    }
   ],
   "source": [
    "# Create uranium dioxide at 3% enrichment and 10g/cm3\n",
    "uo2 = openmc.Material(1,\"uo2\")\n",
    "uo2.add_nuclide('U235', 0.03)\n",
    "uo2.add_nuclide('U238', 0.97)\n",
    "uo2.add_nuclide('O16', 2.0)\n",
    "uo2.set_density('g/cm3', 10.0)\n",
    "print(uo2)"
   ]
  },
  {
   "cell_type": "code",
   "execution_count": 3,
   "metadata": {},
   "outputs": [
    {
     "name": "stdout",
     "output_type": "stream",
     "text": [
      "Material\n",
      "\tID             =\t2\n",
      "\tName           =\tzirconium\n",
      "\tTemperature    =\tNone\n",
      "\tDensity        =\t6.6 [g/cm3]\n",
      "\tS(a,b) Tables  \n",
      "\tNuclides       \n",
      "\tZr90           =\t0.5145       [ao]\n",
      "\tZr91           =\t0.1122       [ao]\n",
      "\tZr92           =\t0.1715       [ao]\n",
      "\tZr94           =\t0.1738       [ao]\n",
      "\tZr96           =\t0.028        [ao]\n",
      "\n"
     ]
    }
   ],
   "source": [
    "# Create zirconium for cladding at 6.6 g/cm3\n",
    "zirconium = openmc.Material(2, \"zirconium\")\n",
    "zirconium.add_element('Zr', 1.0)\n",
    "zirconium.set_density('g/cm3', 6.6)\n",
    "print(zirconium)"
   ]
  },
  {
   "cell_type": "code",
   "execution_count": 4,
   "metadata": {},
   "outputs": [
    {
     "name": "stdout",
     "output_type": "stream",
     "text": [
      "Material\n",
      "\tID             =\t3\n",
      "\tName           =\th2o\n",
      "\tTemperature    =\tNone\n",
      "\tDensity        =\t1.0 [g/cm3]\n",
      "\tS(a,b) Tables  \n",
      "\tS(a,b)         =\t('c_H_in_H2O', 1.0)\n",
      "\tNuclides       \n",
      "\tH1             =\t2.0          [ao]\n",
      "\tO16            =\t0.999621     [ao]\n",
      "\tO17            =\t0.000379     [ao]\n",
      "\n"
     ]
    }
   ],
   "source": [
    "# Create water for moderator at 1.0 g/cm3\n",
    "water = openmc.Material(3, \"h2o\")\n",
    "water.add_nuclide('H1', 2.0)\n",
    "water.add_element('O', 1.0)\n",
    "water.set_density('g/cm3', 1.0)\n",
    "# Add H s(a,b) cross sections for thermal neutron scattering\n",
    "water.add_s_alpha_beta('c_H_in_H2O')\n",
    "print(water)"
   ]
  },
  {
   "cell_type": "code",
   "execution_count": 5,
   "metadata": {},
   "outputs": [
    {
     "name": "stdout",
     "output_type": "stream",
     "text": [
      "<?xml version='1.0' encoding='utf-8'?>\r\n",
      "<materials>\r\n",
      "  <material id=\"1\" name=\"uo2\">\r\n",
      "    <density units=\"g/cm3\" value=\"10.0\" />\r\n",
      "    <nuclide ao=\"0.03\" name=\"U235\" />\r\n",
      "    <nuclide ao=\"0.97\" name=\"U238\" />\r\n",
      "    <nuclide ao=\"2.0\" name=\"O16\" />\r\n",
      "  </material>\r\n",
      "  <material id=\"2\" name=\"zirconium\">\r\n",
      "    <density units=\"g/cm3\" value=\"6.6\" />\r\n",
      "    <nuclide ao=\"0.5145\" name=\"Zr90\" />\r\n",
      "    <nuclide ao=\"0.1122\" name=\"Zr91\" />\r\n",
      "    <nuclide ao=\"0.1715\" name=\"Zr92\" />\r\n",
      "    <nuclide ao=\"0.1738\" name=\"Zr94\" />\r\n",
      "    <nuclide ao=\"0.028\" name=\"Zr96\" />\r\n",
      "  </material>\r\n",
      "  <material id=\"3\" name=\"h2o\">\r\n",
      "    <density units=\"g/cm3\" value=\"1.0\" />\r\n",
      "    <nuclide ao=\"2.0\" name=\"H1\" />\r\n",
      "    <nuclide ao=\"0.999621\" name=\"O16\" />\r\n",
      "    <nuclide ao=\"0.000379\" name=\"O17\" />\r\n",
      "    <sab name=\"c_H_in_H2O\" />\r\n",
      "  </material>\r\n",
      "</materials>\r\n"
     ]
    }
   ],
   "source": [
    "# Export marterials created to materials.xml\n",
    "mats = openmc.Materials([uo2, zirconium, water])\n",
    "mats.export_to_xml()\n",
    "!cat materials.xml"
   ]
  },
  {
   "cell_type": "code",
   "execution_count": 6,
   "metadata": {},
   "outputs": [],
   "source": [
    "# Create surfaces for uranium cylinder\n",
    "fuel_or = openmc.ZCylinder(R=0.39)\n",
    "fuel_top = openmc.ZPlane(z0=49)\n",
    "fuel_bottom = openmc.ZPlane(z0=-49)\n",
    "\n",
    "# Create surfaces for cladding cylinder, cap, and tip\n",
    "clad_ir = openmc.ZCylinder(R=0.40)\n",
    "clad_or = openmc.ZCylinder(R=0.46)\n",
    "clad_tip_r = openmc.ZCylinder(R=0.26)\n",
    "clad_cap_top = openmc.ZPlane(z0=60)\n",
    "clad_tip_top = openmc.ZPlane(z0=65)\n",
    "clad_cap_bottom = openmc.ZPlane(z0=-60)\n",
    "clad_tip_bottom = openmc.ZPlane(z0=-65)\n",
    "\n",
    "# Crate top and bottom surfaces for gap between fuel and cladding\n",
    "gap_top = openmc.ZPlane(z0=50)\n",
    "gap_bottom = openmc.ZPlane(z0=-50)\n",
    "\n",
    "# Create a cylinder to bound the surface of the moderator around the pin cell\n",
    "pin_bound = openmc.ZCylinder(R=0.5)\n",
    "pin_top = openmc.ZPlane(z0=70)\n",
    "pin_bottom = openmc.ZPlane(z0=-70)\n",
    "\n",
    "# Create bounding cylinder\n",
    "bound_cyl = openmc.ZCylinder(R=2, boundary_type = 'reflective')\n",
    "bound_top = openmc.ZPlane(z0 = 75, boundary_type = 'reflective')\n",
    "bound_bottom = openmc.ZPlane(z0 = -75, boundary_type = 'reflective')"
   ]
  },
  {
   "cell_type": "code",
   "execution_count": 7,
   "metadata": {},
   "outputs": [],
   "source": [
    "# Create a region for the fuel in a cylinder\n",
    "fuel_region = -fuel_or & +fuel_bottom & -fuel_top\n",
    "\n",
    "# Create regions for the cladding cylinder, caps, and tips\n",
    "clad_region_cyl = +clad_ir & -clad_or & +gap_bottom & -gap_top\n",
    "clad_region_cap_top = +gap_top & -clad_cap_top & -clad_or\n",
    "clad_region_cap_bottom = -gap_bottom & +clad_cap_bottom & -clad_or\n",
    "clad_region_tip_top = +clad_cap_top & -clad_tip_top & -clad_tip_r\n",
    "clad_region_tip_bottom = -clad_cap_bottom & +clad_tip_bottom & -clad_tip_r\n",
    "\n",
    "# Create a region for the gap between the cladding and the fuel\n",
    "gap_region_cyl = +fuel_or & -clad_ir & +fuel_bottom & -fuel_top \n",
    "gap_region_top = +fuel_top & -gap_top & -clad_ir\n",
    "gap_region_bottom = -fuel_bottom & +gap_bottom & -clad_ir\n",
    "\n",
    "# Create regions for the water along each horizontal area with different cladding regions\n",
    "water_region_r = -pin_bound & -clad_cap_top & +clad_cap_bottom & +clad_or\n",
    "water_region_tip_t = -pin_bound & +clad_cap_top & -clad_tip_top & +clad_tip_r\n",
    "water_region_tip_b = -pin_bound & -clad_cap_bottom & +clad_tip_bottom & +clad_tip_r\n",
    "water_region_t = -pin_bound & +clad_tip_top & -pin_top\n",
    "water_region_b = -pin_bound & -clad_tip_bottom & +pin_bottom\n",
    "\n",
    "# Create region for boundary and moderator in root universe\n",
    "bound_pin = -bound_cyl & -pin_top & +pin_bottom\n",
    "bound_t = -bound_cyl & +pin_top & -bound_top\n",
    "bound_b = -bound_cyl & -pin_bottom & +bound_bottom"
   ]
  },
  {
   "cell_type": "code",
   "execution_count": 8,
   "metadata": {},
   "outputs": [],
   "source": [
    "# Create a fuel cell with uranium dioxide material\n",
    "fuel = openmc.Cell(1, 'fuel')\n",
    "fuel.fill = uo2\n",
    "fuel.region = fuel_region"
   ]
  },
  {
   "cell_type": "code",
   "execution_count": 9,
   "metadata": {},
   "outputs": [],
   "source": [
    "# Create a gap cell with void material\n",
    "gap = openmc.Cell(2, 'air gap')\n",
    "gap.region = gap_region_cyl | gap_region_top | gap_region_bottom"
   ]
  },
  {
   "cell_type": "code",
   "execution_count": 10,
   "metadata": {},
   "outputs": [],
   "source": [
    "# Create a clad cell with zirconium material\n",
    "clad = openmc.Cell(3, 'clad')\n",
    "clad.fill = zirconium\n",
    "clad.region = clad_region_cyl | clad_region_cap_top | clad_region_cap_bottom \\\n",
    "    | clad_region_tip_top | clad_region_tip_bottom"
   ]
  },
  {
   "cell_type": "code",
   "execution_count": 11,
   "metadata": {},
   "outputs": [],
   "source": [
    "# Create a moderator cell with water material\n",
    "pin_water = openmc.Cell(4, 'water')\n",
    "pin_water.fill = water\n",
    "pin_water.region = water_region_r | water_region_tip_t | water_region_tip_b | water_region_t | water_region_b"
   ]
  },
  {
   "cell_type": "code",
   "execution_count": 12,
   "metadata": {},
   "outputs": [],
   "source": [
    "# Create a universe for the pin cell to be reused\n",
    "pin_uni = openmc.Universe(cells=(fuel, gap, clad, pin_water))"
   ]
  },
  {
   "cell_type": "code",
   "execution_count": 13,
   "metadata": {},
   "outputs": [],
   "source": [
    "# Create a cell containing the universe pin cell\n",
    "pin_bound1 = openmc.ZCylinder(x0=0.6, y0=0.6, R=0.5)\n",
    "pin_cell1 = openmc.Cell(name='pin 1', fill=pin_uni)\n",
    "\n",
    "# Set the region of the pin cell within the cylinder created\n",
    "pin_cell1_region = -pin_bound1 & +pin_bottom & -pin_top\n",
    "pin_cell1.region = pin_cell1_region\n",
    "\n",
    "# Move pin cell to desired location\n",
    "pin_cell1.translation = (0.6, 0.6, 0)\n",
    "\n",
    "# Make the boundary region outside of the pin cell cylinder\n",
    "bound_pin &= +pin_bound1 "
   ]
  },
  {
   "cell_type": "code",
   "execution_count": 14,
   "metadata": {},
   "outputs": [],
   "source": [
    "# Create a cell containing the universe pin cell\n",
    "pin_bound2 = openmc.ZCylinder(x0=0.6, y0=-0.6, R=0.5)\n",
    "pin_cell2 = openmc.Cell(name='pin 2', fill=pin_uni)\n",
    "\n",
    "# Set the region of the pin cell within the cylinder created\n",
    "pin_cell2_region = -pin_bound2 & +pin_bottom & -pin_top\n",
    "pin_cell2.region = pin_cell2_region\n",
    "\n",
    "# Move pin cell to desired location\n",
    "pin_cell2.translation = (0.6, -0.6, 0)\n",
    "\n",
    "# Make the boundary region outside of the pin cell cylinder\n",
    "bound_pin &= +pin_bound2"
   ]
  },
  {
   "cell_type": "code",
   "execution_count": 15,
   "metadata": {},
   "outputs": [],
   "source": [
    "# Create a cell containing the universe pin cell\n",
    "pin_bound3 = openmc.ZCylinder(x0=-0.6, y0=0.6, R=0.5)\n",
    "pin_cell3 = openmc.Cell(name='pin 3', fill=pin_uni)\n",
    "\n",
    "# Set the region of the pin cell within the cylinder created\n",
    "pin_cell3_region = -pin_bound3 & +pin_bottom & -pin_top\n",
    "pin_cell3.region = pin_cell3_region\n",
    "\n",
    "# Move pin cell to desired location\n",
    "pin_cell3.translation = (-0.6, 0.6, 0)\n",
    "\n",
    "# Make the boundary region outside of the pin cell cylinder\n",
    "bound_pin &= +pin_bound3"
   ]
  },
  {
   "cell_type": "code",
   "execution_count": 16,
   "metadata": {},
   "outputs": [],
   "source": [
    "# Create a cell containing the universe pin cell\n",
    "pin_bound4 = openmc.ZCylinder(x0=-1, y0=-1, R=0.5)\n",
    "pin_cell4 = openmc.Cell(name='pin 4', fill=pin_uni)\n",
    "\n",
    "# Set the region of the pin cell within the cylinder created\n",
    "pin_cell4_region = -pin_bound4 & +pin_bottom & -pin_top\n",
    "pin_cell4.region = pin_cell4_region\n",
    "\n",
    "# Move pin cell to desired location\n",
    "pin_cell4.translation = (-1, -1, 0)\n",
    "\n",
    "# Make the boundary region outside of the pin cell cylinder\n",
    "bound_pin &= +pin_bound4"
   ]
  },
  {
   "cell_type": "code",
   "execution_count": 17,
   "metadata": {},
   "outputs": [],
   "source": [
    "# Create the cell for the boundary and make the region the space in the boundary and outside the pin cells\n",
    "bound_cell = openmc.Cell(name='boundary', fill=water)\n",
    "bound_cell.region = bound_pin | bound_t | bound_b"
   ]
  },
  {
   "cell_type": "code",
   "execution_count": 18,
   "metadata": {},
   "outputs": [
    {
     "name": "stdout",
     "output_type": "stream",
     "text": [
      "<?xml version='1.0' encoding='utf-8'?>\r\n",
      "<geometry>\r\n",
      "  <cell id=\"1\" material=\"1\" name=\"fuel\" region=\"-1 3 -2\" universe=\"1\" />\r\n",
      "  <cell id=\"2\" material=\"void\" name=\"air gap\" region=\"(1 -4 3 -2) | (2 -11 -4) | (-3 12 -4)\" universe=\"1\" />\r\n",
      "  <cell id=\"3\" material=\"2\" name=\"clad\" region=\"(4 -5 12 -11) | (11 -7 -5) | (-12 9 -5) | (7 -8 -6) | (-9 10 -6)\" universe=\"1\" />\r\n",
      "  <cell id=\"4\" material=\"3\" name=\"water\" region=\"(-13 -7 9 5) | (-13 7 -8 6) | (-13 -9 10 6) | (-13 8 -14) | (-13 -10 15)\" universe=\"1\" />\r\n",
      "  <cell fill=\"1\" id=\"5\" name=\"pin 1\" region=\"-19 15 -14\" translation=\"0.6 0.6 0.0\" universe=\"2\" />\r\n",
      "  <cell fill=\"1\" id=\"6\" name=\"pin 2\" region=\"-20 15 -14\" translation=\"0.6 -0.6 0.0\" universe=\"2\" />\r\n",
      "  <cell fill=\"1\" id=\"7\" name=\"pin 3\" region=\"-21 15 -14\" translation=\"-0.6 0.6 0.0\" universe=\"2\" />\r\n",
      "  <cell fill=\"1\" id=\"8\" name=\"pin 4\" region=\"-22 15 -14\" translation=\"-1 -1 0\" universe=\"2\" />\r\n",
      "  <cell id=\"9\" material=\"3\" name=\"boundary\" region=\"(-16 -14 15 19 20 21 22) | (-16 14 -17) | (-16 -15 18)\" universe=\"2\" />\r\n",
      "  <surface coeffs=\"0.0 0.0 0.39\" id=\"1\" type=\"z-cylinder\" />\r\n",
      "  <surface coeffs=\"49\" id=\"2\" type=\"z-plane\" />\r\n",
      "  <surface coeffs=\"-49\" id=\"3\" type=\"z-plane\" />\r\n",
      "  <surface coeffs=\"0.0 0.0 0.4\" id=\"4\" type=\"z-cylinder\" />\r\n",
      "  <surface coeffs=\"0.0 0.0 0.46\" id=\"5\" type=\"z-cylinder\" />\r\n",
      "  <surface coeffs=\"0.0 0.0 0.26\" id=\"6\" type=\"z-cylinder\" />\r\n",
      "  <surface coeffs=\"60\" id=\"7\" type=\"z-plane\" />\r\n",
      "  <surface coeffs=\"65\" id=\"8\" type=\"z-plane\" />\r\n",
      "  <surface coeffs=\"-60\" id=\"9\" type=\"z-plane\" />\r\n",
      "  <surface coeffs=\"-65\" id=\"10\" type=\"z-plane\" />\r\n",
      "  <surface coeffs=\"50\" id=\"11\" type=\"z-plane\" />\r\n",
      "  <surface coeffs=\"-50\" id=\"12\" type=\"z-plane\" />\r\n",
      "  <surface coeffs=\"0.0 0.0 0.5\" id=\"13\" type=\"z-cylinder\" />\r\n",
      "  <surface coeffs=\"70\" id=\"14\" type=\"z-plane\" />\r\n",
      "  <surface coeffs=\"-70\" id=\"15\" type=\"z-plane\" />\r\n",
      "  <surface boundary=\"reflective\" coeffs=\"0.0 0.0 2\" id=\"16\" type=\"z-cylinder\" />\r\n",
      "  <surface boundary=\"reflective\" coeffs=\"75\" id=\"17\" type=\"z-plane\" />\r\n",
      "  <surface boundary=\"reflective\" coeffs=\"-75\" id=\"18\" type=\"z-plane\" />\r\n",
      "  <surface coeffs=\"0.6 0.6 0.5\" id=\"19\" type=\"z-cylinder\" />\r\n",
      "  <surface coeffs=\"0.6 -0.6 0.5\" id=\"20\" type=\"z-cylinder\" />\r\n",
      "  <surface coeffs=\"-0.6 0.6 0.5\" id=\"21\" type=\"z-cylinder\" />\r\n",
      "  <surface coeffs=\"-1 -1 0.5\" id=\"22\" type=\"z-cylinder\" />\r\n",
      "</geometry>\r\n"
     ]
    }
   ],
   "source": [
    "# Create a root universe and export the geometry to geometry.xml\n",
    "root = openmc.Universe(cells=(pin_cell1, pin_cell2, pin_cell3, pin_cell4, bound_cell))\n",
    "geom = openmc.Geometry(root)\n",
    "geom.export_to_xml()\n",
    "!cat geometry.xml"
   ]
  },
  {
   "cell_type": "code",
   "execution_count": 19,
   "metadata": {},
   "outputs": [],
   "source": [
    "# Set openmc to run 100 batches of 1000 cells with 20 batches not changing the average\n",
    "settings = openmc.Settings()\n",
    "settings.batches = 100\n",
    "settings.inactive = 20\n",
    "settings.particles = 1000"
   ]
  },
  {
   "cell_type": "code",
   "execution_count": 20,
   "metadata": {},
   "outputs": [
    {
     "name": "stdout",
     "output_type": "stream",
     "text": [
      "<?xml version='1.0' encoding='utf-8'?>\r\n",
      "<settings>\r\n",
      "  <run_mode>eigenvalue</run_mode>\r\n",
      "  <particles>1000</particles>\r\n",
      "  <batches>100</batches>\r\n",
      "  <inactive>20</inactive>\r\n",
      "</settings>\r\n"
     ]
    }
   ],
   "source": [
    "# Export settings to settings.xml\n",
    "settings.export_to_xml()\n",
    "!cat settings.xml"
   ]
  },
  {
   "cell_type": "code",
   "execution_count": 21,
   "metadata": {},
   "outputs": [],
   "source": [
    "# Instantiate an empty Tallies object\n",
    "tallies = openmc.Tallies()"
   ]
  },
  {
   "cell_type": "code",
   "execution_count": 22,
   "metadata": {},
   "outputs": [
    {
     "name": "stdout",
     "output_type": "stream",
     "text": [
      "<?xml version='1.0' encoding='utf-8'?>\r\n",
      "<tallies>\r\n",
      "  <filter id=\"1\" type=\"distribcell\">\r\n",
      "    <bins>1</bins>\r\n",
      "  </filter>\r\n",
      "  <tally id=\"1\" name=\"flux\">\r\n",
      "    <filters>1</filters>\r\n",
      "    <scores>flux</scores>\r\n",
      "  </tally>\r\n",
      "</tallies>\r\n"
     ]
    }
   ],
   "source": [
    "# Create a filter for the tallies in the fuel cell that is repeated\n",
    "cell_filter = openmc.DistribcellFilter(fuel)\n",
    "\n",
    "# Indicate that the desired score is flux inside the fuel cell filter\n",
    "tally = openmc.Tally(name='flux')\n",
    "tally.filters = [cell_filter]\n",
    "tally.scores = ['flux']\n",
    "\n",
    "# Add the tally to the tally file and export\n",
    "tallies.append(tally)\n",
    "tallies.export_to_xml()\n",
    "!cat tallies.xml"
   ]
  },
  {
   "cell_type": "code",
   "execution_count": 23,
   "metadata": {
    "scrolled": true
   },
   "outputs": [
    {
     "name": "stdout",
     "output_type": "stream",
     "text": [
      "\n",
      "                               %%%%%%%%%%%%%%%\n",
      "                          %%%%%%%%%%%%%%%%%%%%%%%%\n",
      "                       %%%%%%%%%%%%%%%%%%%%%%%%%%%%%%\n",
      "                     %%%%%%%%%%%%%%%%%%%%%%%%%%%%%%%%%%\n",
      "                   %%%%%%%%%%%%%%%%%%%%%%%%%%%%%%%%%%%%%%\n",
      "                  %%%%%%%%%%%%%%%%%%%%%%%%%%%%%%%%%%%%%%%%\n",
      "                                   %%%%%%%%%%%%%%%%%%%%%%%%\n",
      "                                    %%%%%%%%%%%%%%%%%%%%%%%%\n",
      "                ###############      %%%%%%%%%%%%%%%%%%%%%%%%\n",
      "               ##################     %%%%%%%%%%%%%%%%%%%%%%%\n",
      "               ###################     %%%%%%%%%%%%%%%%%%%%%%%\n",
      "               ####################     %%%%%%%%%%%%%%%%%%%%%%\n",
      "               #####################     %%%%%%%%%%%%%%%%%%%%%\n",
      "               ######################     %%%%%%%%%%%%%%%%%%%%\n",
      "               #######################     %%%%%%%%%%%%%%%%%%\n",
      "                #######################     %%%%%%%%%%%%%%%%%\n",
      "                ######################     %%%%%%%%%%%%%%%%%\n",
      "                 ####################     %%%%%%%%%%%%%%%%%\n",
      "                   #################     %%%%%%%%%%%%%%%%%\n",
      "                    ###############     %%%%%%%%%%%%%%%%\n",
      "                      ############     %%%%%%%%%%%%%%%\n",
      "                         ########     %%%%%%%%%%%%%%\n",
      "                                     %%%%%%%%%%%\n",
      "\n",
      "                   | The OpenMC Monte Carlo Code\n",
      "         Copyright | 2011-2018 Massachusetts Institute of Technology\n",
      "           License | http://openmc.readthedocs.io/en/latest/license.html\n",
      "           Version | 0.10.0\n",
      "          Git SHA1 | 455efffdbf6eacbc0b3b93ad61cfeb24490897d8\n",
      "         Date/Time | 2019-09-17 13:54:30\n",
      "    OpenMP Threads | 4\n",
      "\n",
      " Reading settings XML file...\n",
      " Reading cross sections XML file...\n",
      " Reading materials XML file...\n",
      " Reading geometry XML file...\n",
      " Building neighboring cells lists for each surface...\n",
      " Reading U235 from /home/stevejr/opt/openmc/build/nndc_hdf5/U235.h5\n",
      " Reading U238 from /home/stevejr/opt/openmc/build/nndc_hdf5/U238.h5\n",
      " Reading O16 from /home/stevejr/opt/openmc/build/nndc_hdf5/O16.h5\n",
      " Reading Zr90 from /home/stevejr/opt/openmc/build/nndc_hdf5/Zr90.h5\n",
      " Reading Zr91 from /home/stevejr/opt/openmc/build/nndc_hdf5/Zr91.h5\n",
      " Reading Zr92 from /home/stevejr/opt/openmc/build/nndc_hdf5/Zr92.h5\n",
      " Reading Zr94 from /home/stevejr/opt/openmc/build/nndc_hdf5/Zr94.h5\n",
      " Reading Zr96 from /home/stevejr/opt/openmc/build/nndc_hdf5/Zr96.h5\n",
      " Reading H1 from /home/stevejr/opt/openmc/build/nndc_hdf5/H1.h5\n",
      " Reading O17 from /home/stevejr/opt/openmc/build/nndc_hdf5/O17.h5\n",
      " Reading c_H_in_H2O from /home/stevejr/opt/openmc/build/nndc_hdf5/c_H_in_H2O.h5\n",
      " Maximum neutron transport energy: 2.00000E+07 eV for U235\n",
      " Reading tallies XML file...\n",
      " Writing summary.h5 file...\n",
      " WARNING: Cell overlap checking is ON.\n",
      " Initializing source particles...\n",
      "\n",
      " ====================>     K EIGENVALUE SIMULATION     <====================\n",
      "\n",
      "  Bat./Gen.      k            Average k         \n",
      "  =========   ========   ====================   \n",
      "        1/1    1.25747                       \n",
      "        2/1    1.27701                       \n",
      "        3/1    1.30500                       \n",
      "        4/1    1.25452                       \n",
      "        5/1    1.31547                       \n",
      "        6/1    1.29611                       \n",
      "        7/1    1.30891                       \n",
      "        8/1    1.24792                       \n",
      "        9/1    1.31726                       \n",
      "       10/1    1.23940                       \n",
      "       11/1    1.32128                       \n",
      "       12/1    1.31088                       \n",
      "       13/1    1.31646                       \n",
      "       14/1    1.37990                       \n",
      "       15/1    1.23192                       \n",
      "       16/1    1.29350                       \n",
      "       17/1    1.26179                       \n",
      "       18/1    1.21613                       \n",
      "       19/1    1.31622                       \n",
      "       20/1    1.34735                       \n",
      "       21/1    1.28869                       \n",
      "       22/1    1.36489    1.32679 +/- 0.03810\n",
      "       23/1    1.23214    1.29524 +/- 0.03846\n",
      "       24/1    1.25675    1.28562 +/- 0.02885\n",
      "       25/1    1.26643    1.28178 +/- 0.02267\n",
      "       26/1    1.28297    1.28198 +/- 0.01851\n",
      "       27/1    1.21728    1.27274 +/- 0.01817\n",
      "       28/1    1.22480    1.26674 +/- 0.01684\n",
      "       29/1    1.23984    1.26375 +/- 0.01515\n",
      "       30/1    1.22431    1.25981 +/- 0.01411\n",
      "       31/1    1.21187    1.25545 +/- 0.01349\n",
      "       32/1    1.32025    1.26085 +/- 0.01345\n",
      "       33/1    1.32714    1.26595 +/- 0.01338\n",
      "       34/1    1.21278    1.26215 +/- 0.01295\n",
      "       35/1    1.36403    1.26895 +/- 0.01384\n",
      "       36/1    1.26277    1.26856 +/- 0.01295\n",
      "       37/1    1.27773    1.26910 +/- 0.01218\n",
      "       38/1    1.22366    1.26657 +/- 0.01176\n",
      "       39/1    1.28121    1.26735 +/- 0.01115\n",
      "       40/1    1.25160    1.26656 +/- 0.01060\n",
      "       41/1    1.34428    1.27026 +/- 0.01074\n",
      "       42/1    1.24546    1.26913 +/- 0.01031\n",
      "       43/1    1.27262    1.26928 +/- 0.00985\n",
      "       44/1    1.34744    1.27254 +/- 0.00998\n",
      "       45/1    1.29436    1.27341 +/- 0.00961\n",
      "       46/1    1.27481    1.27347 +/- 0.00923\n",
      "       47/1    1.33011    1.27556 +/- 0.00913\n",
      "       48/1    1.32052    1.27717 +/- 0.00894\n",
      "       49/1    1.29138    1.27766 +/- 0.00864\n",
      "       50/1    1.24532    1.27658 +/- 0.00842\n",
      "       51/1    1.27416    1.27650 +/- 0.00814\n",
      "       52/1    1.34723    1.27871 +/- 0.00819\n",
      "       53/1    1.33336    1.28037 +/- 0.00811\n",
      "       54/1    1.27088    1.28009 +/- 0.00787\n",
      "       55/1    1.28030    1.28010 +/- 0.00764\n",
      "       56/1    1.30511    1.28079 +/- 0.00746\n",
      "       57/1    1.32672    1.28203 +/- 0.00736\n",
      "       58/1    1.27146    1.28175 +/- 0.00717\n",
      "       59/1    1.30798    1.28243 +/- 0.00701\n",
      "       60/1    1.31189    1.28316 +/- 0.00688\n",
      "       61/1    1.32076    1.28408 +/- 0.00677\n",
      "       62/1    1.32001    1.28494 +/- 0.00666\n",
      "       63/1    1.30030    1.28529 +/- 0.00651\n",
      "       64/1    1.24715    1.28443 +/- 0.00642\n",
      "       65/1    1.25515    1.28378 +/- 0.00631\n",
      "       66/1    1.23249    1.28266 +/- 0.00627\n",
      "       67/1    1.18225    1.28052 +/- 0.00650\n",
      "       68/1    1.30992    1.28114 +/- 0.00639\n",
      "       69/1    1.28284    1.28117 +/- 0.00626\n",
      "       70/1    1.34644    1.28248 +/- 0.00627\n",
      "       71/1    1.30499    1.28292 +/- 0.00616\n",
      "       72/1    1.23733    1.28204 +/- 0.00611\n",
      "       73/1    1.25099    1.28146 +/- 0.00602\n",
      "       74/1    1.33184    1.28239 +/- 0.00598\n",
      "       75/1    1.36220    1.28384 +/- 0.00605\n",
      "       76/1    1.30225    1.28417 +/- 0.00595\n",
      "       77/1    1.26297    1.28380 +/- 0.00585\n",
      "       78/1    1.28715    1.28385 +/- 0.00575\n",
      "       79/1    1.26375    1.28351 +/- 0.00566\n",
      "       80/1    1.23522    1.28271 +/- 0.00563\n",
      "       81/1    1.24132    1.28203 +/- 0.00557\n",
      "       82/1    1.22878    1.28117 +/- 0.00555\n",
      "       83/1    1.24602    1.28061 +/- 0.00549\n",
      "       84/1    1.28850    1.28074 +/- 0.00541\n",
      "       85/1    1.32499    1.28142 +/- 0.00537\n",
      "       86/1    1.27910    1.28138 +/- 0.00528\n",
      "       87/1    1.23002    1.28062 +/- 0.00526\n",
      "       88/1    1.27614    1.28055 +/- 0.00518\n",
      "       89/1    1.24481    1.28003 +/- 0.00513\n",
      "       90/1    1.24902    1.27959 +/- 0.00508\n",
      "       91/1    1.32826    1.28027 +/- 0.00505\n",
      "       92/1    1.21598    1.27938 +/- 0.00506\n",
      "       93/1    1.33907    1.28020 +/- 0.00506\n",
      "       94/1    1.24971    1.27979 +/- 0.00501\n",
      "       95/1    1.27861    1.27977 +/- 0.00494\n",
      "       96/1    1.30395    1.28009 +/- 0.00488\n",
      "       97/1    1.27138    1.27998 +/- 0.00482\n",
      "       98/1    1.23835    1.27944 +/- 0.00479\n",
      "       99/1    1.32498    1.28002 +/- 0.00476\n",
      "      100/1    1.25274    1.27968 +/- 0.00472\n",
      " Creating state point statepoint.100.h5...\n",
      "\n",
      " =======================>     TIMING STATISTICS     <=======================\n",
      "\n",
      " Total time for initialization     =  1.0003E+00 seconds\n",
      "   Reading cross sections          =  9.0575E-01 seconds\n",
      " Total time in simulation          =  1.7596E+01 seconds\n",
      "   Time in transport only          =  1.7381E+01 seconds\n",
      "   Time in inactive batches        =  3.6597E+00 seconds\n",
      "   Time in active batches          =  1.3936E+01 seconds\n",
      "   Time synchronizing fission bank =  4.3718E-03 seconds\n",
      "     Sampling source sites         =  3.3641E-03 seconds\n",
      "     SEND/RECV source sites        =  8.5041E-04 seconds\n",
      "   Time accumulating tallies       =  1.8043E-04 seconds\n",
      " Total time for finalization       =  2.8699E-04 seconds\n",
      " Total time elapsed                =  1.8600E+01 seconds\n",
      " Calculation Rate (inactive)       =  5464.94 neutrons/second\n",
      " Calculation Rate (active)         =  5740.53 neutrons/second\n",
      "\n",
      " ============================>     RESULTS     <============================\n",
      "\n",
      " k-effective (Collision)     =  1.28284 +/-  0.00443\n",
      " k-effective (Track-length)  =  1.27968 +/-  0.00472\n",
      " k-effective (Absorption)    =  1.27467 +/-  0.00392\n",
      " Combined k-effective        =  1.27654 +/-  0.00361\n",
      " Leakage Fraction            =  0.00000 +/-  0.00000\n",
      "\n",
      "\n",
      " ==================>     CELL OVERLAP CHECK SUMMARY     <===================\n",
      "\n",
      " Cell ID      No. Overlap Checks\n",
      "        1          1054969\n",
      "        2          1535612\n",
      "        3          1870052\n",
      "        4          2210017\n",
      "        5          1685567\n",
      "        6          1688713\n",
      "        7          1693398\n",
      "        8          1603395\n",
      "        9          7174421\n",
      "\n",
      " There were 0 cells with less than 10 overlap checks\n",
      "\n"
     ]
    },
    {
     "data": {
      "text/plain": [
       "0"
      ]
     },
     "execution_count": 23,
     "metadata": {},
     "output_type": "execute_result"
    }
   ],
   "source": [
    "# Run openmc\n",
    "openmc.run(geometry_debug=True)"
   ]
  },
  {
   "cell_type": "code",
   "execution_count": 24,
   "metadata": {},
   "outputs": [
    {
     "data": {
      "text/plain": [
       "0"
      ]
     },
     "execution_count": 24,
     "metadata": {},
     "output_type": "execute_result"
    }
   ],
   "source": [
    "# Create plot of the pin cell in the xy plane\n",
    "p1 = openmc.Plot()\n",
    "p1.basis = 'xy'\n",
    "p1.filename = 'pinplot_xy'\n",
    "p1.width = (-4,4)\n",
    "p1.pixels = (200, 200)\n",
    "p1.color_by = 'material'\n",
    "p1.colors = {uo2: 'yellow', water: 'blue'}\n",
    "plots = openmc.Plots([p1])\n",
    "plots.export_to_xml()\n",
    "openmc.plot_geometry(output=False)"
   ]
  },
  {
   "cell_type": "code",
   "execution_count": 25,
   "metadata": {
    "scrolled": true
   },
   "outputs": [
    {
     "data": {
      "image/png": "[encoded data removed]",
      "text/plain": [
       "<IPython.core.display.Image object>"
      ]
     },
     "metadata": {},
     "output_type": "display_data"
    }
   ],
   "source": [
    "# Show plot of xy plane\n",
    "openmc.plot_inline(p1)"
   ]
  },
  {
   "cell_type": "code",
   "execution_count": 26,
   "metadata": {},
   "outputs": [
    {
     "name": "stderr",
     "output_type": "stream",
     "text": [
      "/home/stevejr/anaconda3/lib/python3.7/site-packages/h5py/_hl/dataset.py:313: H5pyDeprecationWarning: dataset.value has been deprecated. Use dataset[()] instead.\n",
      "  \"Use dataset[()] instead.\", H5pyDeprecationWarning)\n",
      "/home/stevejr/anaconda3/lib/python3.7/site-packages/h5py/_hl/dataset.py:313: H5pyDeprecationWarning: dataset.value has been deprecated. Use dataset[()] instead.\n",
      "  \"Use dataset[()] instead.\", H5pyDeprecationWarning)\n",
      "/home/stevejr/anaconda3/lib/python3.7/site-packages/h5py/_hl/dataset.py:313: H5pyDeprecationWarning: dataset.value has been deprecated. Use dataset[()] instead.\n",
      "  \"Use dataset[()] instead.\", H5pyDeprecationWarning)\n"
     ]
    }
   ],
   "source": [
    "# Load the statepoint file\n",
    "sp = openmc.StatePoint('statepoint.{}.h5'.format(settings.batches))"
   ]
  },
  {
   "cell_type": "code",
   "execution_count": 27,
   "metadata": {
    "scrolled": false
   },
   "outputs": [
    {
     "name": "stderr",
     "output_type": "stream",
     "text": [
      "/home/stevejr/anaconda3/lib/python3.7/site-packages/h5py/_hl/dataset.py:313: H5pyDeprecationWarning: dataset.value has been deprecated. Use dataset[()] instead.\n",
      "  \"Use dataset[()] instead.\", H5pyDeprecationWarning)\n"
     ]
    },
    {
     "data": {
      "text/html": [
       "<div>\n",
       "<style scoped>\n",
       "    .dataframe tbody tr th:only-of-type {\n",
       "        vertical-align: middle;\n",
       "    }\n",
       "\n",
       "    .dataframe tbody tr th {\n",
       "        vertical-align: top;\n",
       "    }\n",
       "\n",
       "    .dataframe thead tr th {\n",
       "        text-align: left;\n",
       "    }\n",
       "</style>\n",
       "<table border=\"1\" class=\"dataframe\">\n",
       "  <thead>\n",
       "    <tr>\n",
       "      <th></th>\n",
       "      <th colspan=\"2\" halign=\"left\">level 1</th>\n",
       "      <th colspan=\"2\" halign=\"left\">level 2</th>\n",
       "      <th>distribcell</th>\n",
       "      <th>nuclide</th>\n",
       "      <th>score</th>\n",
       "      <th>mean</th>\n",
       "      <th>std. dev.</th>\n",
       "    </tr>\n",
       "    <tr>\n",
       "      <th></th>\n",
       "      <th>univ</th>\n",
       "      <th>cell</th>\n",
       "      <th>univ</th>\n",
       "      <th>cell</th>\n",
       "      <th></th>\n",
       "      <th></th>\n",
       "      <th></th>\n",
       "      <th></th>\n",
       "      <th></th>\n",
       "    </tr>\n",
       "    <tr>\n",
       "      <th></th>\n",
       "      <th>id</th>\n",
       "      <th>id</th>\n",
       "      <th>id</th>\n",
       "      <th>id</th>\n",
       "      <th></th>\n",
       "      <th></th>\n",
       "      <th></th>\n",
       "      <th></th>\n",
       "      <th></th>\n",
       "    </tr>\n",
       "  </thead>\n",
       "  <tbody>\n",
       "    <tr>\n",
       "      <th>0</th>\n",
       "      <td>2</td>\n",
       "      <td>5</td>\n",
       "      <td>1</td>\n",
       "      <td>1</td>\n",
       "      <td>0</td>\n",
       "      <td>total</td>\n",
       "      <td>flux</td>\n",
       "      <td>1.480067</td>\n",
       "      <td>0.004918</td>\n",
       "    </tr>\n",
       "    <tr>\n",
       "      <th>1</th>\n",
       "      <td>2</td>\n",
       "      <td>6</td>\n",
       "      <td>1</td>\n",
       "      <td>1</td>\n",
       "      <td>1</td>\n",
       "      <td>total</td>\n",
       "      <td>flux</td>\n",
       "      <td>1.479984</td>\n",
       "      <td>0.005143</td>\n",
       "    </tr>\n",
       "    <tr>\n",
       "      <th>2</th>\n",
       "      <td>2</td>\n",
       "      <td>7</td>\n",
       "      <td>1</td>\n",
       "      <td>1</td>\n",
       "      <td>2</td>\n",
       "      <td>total</td>\n",
       "      <td>flux</td>\n",
       "      <td>1.488353</td>\n",
       "      <td>0.004650</td>\n",
       "    </tr>\n",
       "    <tr>\n",
       "      <th>3</th>\n",
       "      <td>2</td>\n",
       "      <td>8</td>\n",
       "      <td>1</td>\n",
       "      <td>1</td>\n",
       "      <td>3</td>\n",
       "      <td>total</td>\n",
       "      <td>flux</td>\n",
       "      <td>1.406876</td>\n",
       "      <td>0.005715</td>\n",
       "    </tr>\n",
       "  </tbody>\n",
       "</table>\n",
       "</div>"
      ],
      "text/plain": [
       "  level 1      level 2      distribcell nuclide score     mean std. dev.\n",
       "     univ cell    univ cell                                             \n",
       "       id   id      id   id                                             \n",
       "0       2    5       1    1           0   total  flux 1.48e+00  4.92e-03\n",
       "1       2    6       1    1           1   total  flux 1.48e+00  5.14e-03\n",
       "2       2    7       1    1           2   total  flux 1.49e+00  4.65e-03\n",
       "3       2    8       1    1           3   total  flux 1.41e+00  5.71e-03"
      ]
     },
     "execution_count": 27,
     "metadata": {},
     "output_type": "execute_result"
    }
   ],
   "source": [
    "flux = sp.get_tally(name='flux')\n",
    "flux.get_pandas_dataframe()"
   ]
  }
 ],
 "metadata": {
  "kernelspec": {
   "display_name": "Python 3",
   "language": "python",
   "name": "python3"
  },
  "language_info": {
   "codemirror_mode": {
    "name": "ipython",
    "version": 3
   },
   "file_extension": ".py",
   "mimetype": "text/x-python",
   "name": "python",
   "nbconvert_exporter": "python",
   "pygments_lexer": "ipython3",
   "version": "3.7.3"
  }
 },
 "nbformat": 4,
 "nbformat_minor": 2
}
