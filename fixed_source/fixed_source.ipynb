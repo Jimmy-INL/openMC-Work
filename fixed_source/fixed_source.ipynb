{
 "cells": [
  {
   "cell_type": "markdown",
   "metadata": {},
   "source": [
    "Must import openmc.stats if you want to use the python module for defining distributions\n",
    "\n",
    "OpenMC website sources:\n",
    "Info on creating sources in python and in libraries through c++\n",
    "https://docs.openmc.org/en/stable/usersguide/settings.html\n",
    "\n",
    "Info on the python api stats module\n",
    "https://docs.openmc.org/en/stable/pythonapi/stats.html"
   ]
  },
  {
   "cell_type": "code",
   "execution_count": 1,
   "metadata": {},
   "outputs": [],
   "source": [
    "%matplotlib inline\n",
    "import openmc\n",
    "import openmc.stats\n",
    "import matplotlib.pyplot as plt"
   ]
  },
  {
   "cell_type": "code",
   "execution_count": 2,
   "metadata": {},
   "outputs": [
    {
     "name": "stdout",
     "output_type": "stream",
     "text": [
      "Material\n",
      "\tID             =\t1\n",
      "\tName           =\tconcrete\n",
      "\tTemperature    =\tNone\n",
      "\tDensity        =\t2.4 [g/cm3]\n",
      "\tS(a,b) Tables  \n",
      "\tNuclides       \n",
      "\tH1             =\t0.022124278629176358 [wo]\n",
      "\tH2             =\t5.085260182774568e-06 [wo]\n",
      "\tO16            =\t0.5741337849554967 [wo]\n",
      "\tO17            =\t0.00023243318540838544 [wo]\n",
      "\tNa23           =\t0.015228206607663967 [wo]\n",
      "\tMg24           =\t0.0009881580344305626 [wo]\n",
      "\tMg25           =\t0.0001303189933233482 [wo]\n",
      "\tMg26           =\t0.00014920508464105143 [wo]\n",
      "\tAl27           =\t0.019979511207438135 [wo]\n",
      "\tSi28           =\t0.2802219547481918 [wo]\n",
      "\tSi29           =\t0.014744102873091395 [wo]\n",
      "\tSi30           =\t0.010065695026852797 [wo]\n",
      "\tK39            =\t0.009347931884719626 [wo]\n",
      "\tK40            =\t1.202883326525966e-06 [wo]\n",
      "\tK41            =\t0.0007092118504431006 [wo]\n",
      "\tCa40           =\t0.041572369962976224 [wo]\n",
      "\tCa42           =\t0.00029131919795628164 [wo]\n",
      "\tCa43           =\t6.223421587373157e-05 [wo]\n",
      "\tCa44           =\t0.0009839453958409028 [wo]\n",
      "\tCa46           =\t1.9725318468258845e-06 [wo]\n",
      "\tCa48           =\t9.622694943654786e-05 [wo]\n",
      "\tFe54           =\t0.00036377437123526587 [wo]\n",
      "\tFe56           =\t0.005921721024942872 [wo]\n",
      "\tFe57           =\t0.00013920443360259695 [wo]\n",
      "\tFe58           =\t1.885024388560083e-05 [wo]\n",
      "\tC0             =\t0.0024873004480166563 [wo]\n",
      "\n"
     ]
    }
   ],
   "source": [
    "# Create concrete 2.4 g/cm3 ksu-triga\n",
    "concrete = openmc.Material(1, \"concrete\")\n",
    "concrete.add_nuclide('H1', 0.022124278629176358, 'wo')\n",
    "concrete.add_nuclide('H2', 5.085260182774568e-06, 'wo')\n",
    "concrete.add_nuclide('O16', 0.5741337849554967, 'wo')\n",
    "concrete.add_nuclide('O17', 0.00023243318540838544, 'wo')\n",
    "concrete.add_nuclide('Na23', 0.015228206607663967, 'wo')\n",
    "concrete.add_nuclide('Mg24', 0.0009881580344305626, 'wo')\n",
    "concrete.add_nuclide('Mg25', 0.0001303189933233482, 'wo')\n",
    "concrete.add_nuclide('Mg26', 0.00014920508464105143, 'wo')\n",
    "concrete.add_nuclide('Al27', 0.019979511207438135, 'wo')\n",
    "concrete.add_nuclide('Si28', 0.2802219547481918, 'wo')\n",
    "concrete.add_nuclide('Si29', 0.014744102873091395, 'wo')\n",
    "concrete.add_nuclide('Si30', 0.010065695026852797, 'wo')\n",
    "concrete.add_nuclide('K39', 0.009347931884719626, 'wo')\n",
    "concrete.add_nuclide('K40', 1.202883326525966e-06, 'wo')\n",
    "concrete.add_nuclide('K41', 0.0007092118504431006, 'wo')\n",
    "concrete.add_nuclide('Ca40', 0.041572369962976224, 'wo')\n",
    "concrete.add_nuclide('Ca42', 0.00029131919795628164, 'wo')\n",
    "concrete.add_nuclide('Ca43', 6.223421587373157e-05, 'wo')\n",
    "concrete.add_nuclide('Ca44', 0.0009839453958409028, 'wo')\n",
    "concrete.add_nuclide('Ca46', 1.9725318468258845e-06, 'wo')\n",
    "concrete.add_nuclide('Ca48', 9.622694943654786e-05, 'wo')\n",
    "concrete.add_nuclide('Fe54', 0.00036377437123526587, 'wo')\n",
    "concrete.add_nuclide('Fe56', 0.005921721024942872, 'wo')\n",
    "concrete.add_nuclide('Fe57', 0.00013920443360259695, 'wo')\n",
    "concrete.add_nuclide('Fe58', 1.885024388560083e-05, 'wo')\n",
    "concrete.add_element('C', 0.0024873004480166563, 'wo')\n",
    "concrete.set_density('g/cm3', 2.4)\n",
    "print(concrete)"
   ]
  },
  {
   "cell_type": "code",
   "execution_count": 3,
   "metadata": {},
   "outputs": [
    {
     "name": "stdout",
     "output_type": "stream",
     "text": [
      "<?xml version='1.0' encoding='utf-8'?>\r\n",
      "<materials>\r\n",
      "  <material id=\"1\" name=\"concrete\">\r\n",
      "    <density units=\"g/cm3\" value=\"2.4\" />\r\n",
      "    <nuclide name=\"H1\" wo=\"0.022124278629176358\" />\r\n",
      "    <nuclide name=\"H2\" wo=\"5.085260182774568e-06\" />\r\n",
      "    <nuclide name=\"O16\" wo=\"0.5741337849554967\" />\r\n",
      "    <nuclide name=\"O17\" wo=\"0.00023243318540838544\" />\r\n",
      "    <nuclide name=\"Na23\" wo=\"0.015228206607663967\" />\r\n",
      "    <nuclide name=\"Mg24\" wo=\"0.0009881580344305626\" />\r\n",
      "    <nuclide name=\"Mg25\" wo=\"0.0001303189933233482\" />\r\n",
      "    <nuclide name=\"Mg26\" wo=\"0.00014920508464105143\" />\r\n",
      "    <nuclide name=\"Al27\" wo=\"0.019979511207438135\" />\r\n",
      "    <nuclide name=\"Si28\" wo=\"0.2802219547481918\" />\r\n",
      "    <nuclide name=\"Si29\" wo=\"0.014744102873091395\" />\r\n",
      "    <nuclide name=\"Si30\" wo=\"0.010065695026852797\" />\r\n",
      "    <nuclide name=\"K39\" wo=\"0.009347931884719626\" />\r\n",
      "    <nuclide name=\"K40\" wo=\"1.202883326525966e-06\" />\r\n",
      "    <nuclide name=\"K41\" wo=\"0.0007092118504431006\" />\r\n",
      "    <nuclide name=\"Ca40\" wo=\"0.041572369962976224\" />\r\n",
      "    <nuclide name=\"Ca42\" wo=\"0.00029131919795628164\" />\r\n",
      "    <nuclide name=\"Ca43\" wo=\"6.223421587373157e-05\" />\r\n",
      "    <nuclide name=\"Ca44\" wo=\"0.0009839453958409028\" />\r\n",
      "    <nuclide name=\"Ca46\" wo=\"1.9725318468258845e-06\" />\r\n",
      "    <nuclide name=\"Ca48\" wo=\"9.622694943654786e-05\" />\r\n",
      "    <nuclide name=\"Fe54\" wo=\"0.00036377437123526587\" />\r\n",
      "    <nuclide name=\"Fe56\" wo=\"0.005921721024942872\" />\r\n",
      "    <nuclide name=\"Fe57\" wo=\"0.00013920443360259695\" />\r\n",
      "    <nuclide name=\"Fe58\" wo=\"1.885024388560083e-05\" />\r\n",
      "    <nuclide name=\"C0\" wo=\"0.0024873004480166563\" />\r\n",
      "  </material>\r\n",
      "</materials>\r\n"
     ]
    }
   ],
   "source": [
    "# Export marterials created to materials.xml\n",
    "mats = openmc.Materials([concrete])\n",
    "mats.export_to_xml()\n",
    "!cat materials.xml"
   ]
  },
  {
   "cell_type": "code",
   "execution_count": 4,
   "metadata": {
    "scrolled": true
   },
   "outputs": [
    {
     "name": "stdout",
     "output_type": "stream",
     "text": [
      "<?xml version='1.0' encoding='utf-8'?>\r\n",
      "<geometry>\r\n",
      "  <cell id=\"1\" material=\"1\" region=\"1 -2 3 -4\" universe=\"1\" />\r\n",
      "  <surface boundary=\"vacuum\" coeffs=\"-5.0\" id=\"1\" name=\"minimum x\" type=\"x-plane\" />\r\n",
      "  <surface boundary=\"vacuum\" coeffs=\"5.0\" id=\"2\" name=\"maximum x\" type=\"x-plane\" />\r\n",
      "  <surface boundary=\"vacuum\" coeffs=\"-5.0\" id=\"3\" name=\"minimum y\" type=\"y-plane\" />\r\n",
      "  <surface boundary=\"vacuum\" coeffs=\"5.0\" id=\"4\" name=\"maximum y\" type=\"y-plane\" />\r\n",
      "</geometry>\r\n"
     ]
    }
   ],
   "source": [
    "# Create a 100 cm x 100 cm box filled with concrete\n",
    "box = openmc.model.rectangular_prism(10.0, 10.0, boundary_type='vacuum')\n",
    "concrete_box = openmc.Cell(fill=concrete, region=box)\n",
    "root = openmc.Universe(cells=[concrete_box])\n",
    "geometry = openmc.Geometry(root)\n",
    "geometry.export_to_xml()\n",
    "!cat geometry.xml"
   ]
  },
  {
   "cell_type": "code",
   "execution_count": 5,
   "metadata": {},
   "outputs": [],
   "source": [
    "# Create settings object and set to fixed source\n",
    "settings = openmc.Settings()\n",
    "settings.run_mode = 'fixed source'\n",
    "batches = 30\n",
    "settings.batches = batches\n",
    "settings.particles = 1000"
   ]
  },
  {
   "cell_type": "markdown",
   "metadata": {},
   "source": [
    "Using openmc.stats to define source distributions\n",
    "Specifications:\n",
    "    Source.space - spactial distribution\n",
    "        openmc.stats.CartesianIndependent(x, y, z)\n",
    "        openmc.stats.CylindricalIndpedent(r, phi, z, origin=(0,0,0))\n",
    "        openmc.stats.SphericalIndependent(r, theta, phi, origin=(0,0,0))\n",
    "        openmc.stats.Box(lower_left, upper_right, only_fissionable=False)\n",
    "        openmc.stats.Point(xyz=(0,0,0))\n",
    "    Source.angle (default is Isotropic)\n",
    "        openmc.stats.PolarAzimuthal(mu=None,phi=None,reference_uvw=(0,0,1))\n",
    "        openmc.stats.Isotropic()\n",
    "        openmc.stats.Monodirectional(reference_uvw=[1, 0, 0])\n",
    "    Source.energy (default Watt) these are all very math heavy\n",
    "        openmc.stats.Discrete(x,p)\n",
    "        openmc.stats.Uniform(a=0,b=1)\n",
    "        openmc.stats.Maxwell(theta)\n",
    "        openmc.stats.Watt(a=988000, b=2.249E-06)\n",
    "        openmc.stats.Tabular(x, p, interpolation=\"linear-linear\", ignore_negative=False)\n",
    "            negative probabilities?\n",
    "        openmc.stats.Legendre(coefficient)\n",
    "        openmc.stats.Mixture(probabilities, distribution)\n",
    "        openmc.stats.Normal(mean_value, std_dev)\n",
    "        openmc.stats.Muir(e0=14080000, m_rat=5, kt=20000)\n",
    "    Source.strength - Percent of sites sampled from each source\n",
    "    Source.partice ('photon', 'neutron') defaults neutron"
   ]
  },
  {
   "cell_type": "markdown",
   "metadata": {},
   "source": [
    "If those options are not enough to make your source then the c++ external source method is needed\n",
    "Below is the c++ code for a ring source with a monodirectional angular distributions in the +x direction"
   ]
  },
  {
   "cell_type": "markdown",
   "metadata": {},
   "source": [
    "#include <cmath> // for M_PI\n",
    "#include <memory> // for unique_ptr\n",
    "\n",
    "#include \"openmc/random_lcg.h\"\n",
    "#include \"openmc/source.h\"\n",
    "#include \"openmc/particle.h\"\n",
    "\n",
    "class Source : public openmc::CustomSource\n",
    "{\n",
    "  openmc::Particle::Bank sample(uint64_t* seed)\n",
    "  {\n",
    "    openmc::Particle::Bank particle;\n",
    "    // wgt\n",
    "    particle.particle = openmc::Particle::Type::neutron;\n",
    "    particle.wgt = 1.0;\n",
    "    // position\n",
    "    double angle = 2.0 * M_PI * openmc::prn(seed);\n",
    "    double radius = 3.0;\n",
    "    particle.r.x = radius * std::cos(angle);\n",
    "    particle.r.y = radius * std::sin(angle);\n",
    "    particle.r.z = 0.0;\n",
    "    // angle\n",
    "    particle.u = {1.0, 0.0, 0.0};\n",
    "    particle.E = 14.08e6;\n",
    "    particle.delayed_group = 0;\n",
    "    return particle;\n",
    "  }\n",
    "};\n",
    "\n",
    "// A function to create a unique pointer to an instance of this class when generated\n",
    "// via a plugin call using dlopen/dlsym.\n",
    "// You must have external C linkage here otherwise dlopen will not find the file\n",
    "extern \"C\" std::unique_ptr<Source> openmc_create_source(std::string parameters)\n",
    "{\n",
    "  return std::make_unique<Source>();\n",
    "}"
   ]
  },
  {
   "cell_type": "markdown",
   "metadata": {},
   "source": [
    "Below is the CMakeLists.txt file\n",
    "mkdir build && cd build\n",
    "cmake ..\n",
    "make\n",
    "\n",
    "set"
   ]
  },
  {
   "cell_type": "markdown",
   "metadata": {},
   "source": [
    "cmake_minimum_required(VERSION 3.3 FATAL_ERROR)\n",
    "project(openmc_sources CXX)\n",
    "add_library(source SHARED source_ring.cpp)\n",
    "find_package(OpenMC REQUIRED HINTS <path to openmc>)\n",
    "target_link_libraries(source OpenMC::libopenmc)"
   ]
  },
  {
   "cell_type": "markdown",
   "metadata": {},
   "source": [
    "# Create the external sources\n",
    "point = openmc.Source()\n",
    "point.space = openmc.stats.Point((0.0,0.0,0.0))\n",
    "point.angle = openmc.stats.Isotropic()\n",
    "point.strength = 0.5\n",
    "\n",
    "point2 = openmc.Source()\n",
    "point2.space = openmc.stats.Point((3.0,3.0,0.0))\n",
    "point2.angle = openmc.stats.Monodirectional([-1.0,0.0,0.0])\n",
    "point2.strength = 0.5\n",
    "\n",
    "# Assign the external sources\n",
    "settings.source = [point, point2]"
   ]
  },
  {
   "cell_type": "code",
   "execution_count": 7,
   "metadata": {},
   "outputs": [
    {
     "name": "stdout",
     "output_type": "stream",
     "text": [
      "<?xml version='1.0' encoding='utf-8'?>\r\n",
      "<settings>\r\n",
      "  <run_mode>fixed source</run_mode>\r\n",
      "  <particles>1000</particles>\r\n",
      "  <batches>30</batches>\r\n",
      "  <source library=\"build/libsource.so\" strength=\"1.0\" />\r\n",
      "</settings>\r\n"
     ]
    }
   ],
   "source": [
    "# Create the custom external source\n",
    "source = openmc.Source()\n",
    "source.library = 'build/libsource.so'\n",
    "settings.source = source\n",
    "\n",
    "# Export settings to settings.xml\n",
    "settings.export_to_xml()\n",
    "!cat settings.xml"
   ]
  },
  {
   "cell_type": "code",
   "execution_count": 8,
   "metadata": {},
   "outputs": [
    {
     "name": "stdout",
     "output_type": "stream",
     "text": [
      "<?xml version='1.0' encoding='utf-8'?>\r\n",
      "<tallies>\r\n",
      "  <mesh id=\"1\">\r\n",
      "    <dimension>50 50</dimension>\r\n",
      "    <lower_left>-5.0 -5.0</lower_left>\r\n",
      "    <upper_right>5.0 5.0</upper_right>\r\n",
      "  </mesh>\r\n",
      "  <filter id=\"1\" type=\"mesh\">\r\n",
      "    <bins>1</bins>\r\n",
      "  </filter>\r\n",
      "  <tally id=\"1\">\r\n",
      "    <filters>1</filters>\r\n",
      "    <scores>flux</scores>\r\n",
      "  </tally>\r\n",
      "</tallies>\r\n"
     ]
    }
   ],
   "source": [
    "# Finally, define a mesh tally so that we can see the resulting flux\n",
    "mesh = openmc.RegularMesh()\n",
    "mesh.lower_left = (-5.0, -5.0)\n",
    "mesh.upper_right = (5.0, 5.0)\n",
    "mesh.dimension = (50, 50)\n",
    "\n",
    "tally = openmc.Tally()\n",
    "tally.filters = [openmc.MeshFilter(mesh)]\n",
    "tally.scores = ['flux']\n",
    "tallies = openmc.Tallies([tally])\n",
    "tallies.export_to_xml()\n",
    "!cat tallies.xml"
   ]
  },
  {
   "cell_type": "code",
   "execution_count": 9,
   "metadata": {
    "scrolled": false
   },
   "outputs": [
    {
     "name": "stdout",
     "output_type": "stream",
     "text": [
      "                                %%%%%%%%%%%%%%%\n",
      "                           %%%%%%%%%%%%%%%%%%%%%%%%\n",
      "                        %%%%%%%%%%%%%%%%%%%%%%%%%%%%%%\n",
      "                      %%%%%%%%%%%%%%%%%%%%%%%%%%%%%%%%%%\n",
      "                    %%%%%%%%%%%%%%%%%%%%%%%%%%%%%%%%%%%%%%\n",
      "                   %%%%%%%%%%%%%%%%%%%%%%%%%%%%%%%%%%%%%%%%\n",
      "                                    %%%%%%%%%%%%%%%%%%%%%%%%\n",
      "                                     %%%%%%%%%%%%%%%%%%%%%%%%\n",
      "                 ###############      %%%%%%%%%%%%%%%%%%%%%%%%\n",
      "                ##################     %%%%%%%%%%%%%%%%%%%%%%%\n",
      "                ###################     %%%%%%%%%%%%%%%%%%%%%%%\n",
      "                ####################     %%%%%%%%%%%%%%%%%%%%%%\n",
      "                #####################     %%%%%%%%%%%%%%%%%%%%%\n",
      "                ######################     %%%%%%%%%%%%%%%%%%%%\n",
      "                #######################     %%%%%%%%%%%%%%%%%%\n",
      "                 #######################     %%%%%%%%%%%%%%%%%\n",
      "                 ######################     %%%%%%%%%%%%%%%%%\n",
      "                  ####################     %%%%%%%%%%%%%%%%%\n",
      "                    #################     %%%%%%%%%%%%%%%%%\n",
      "                     ###############     %%%%%%%%%%%%%%%%\n",
      "                       ############     %%%%%%%%%%%%%%%\n",
      "                          ########     %%%%%%%%%%%%%%\n",
      "                                      %%%%%%%%%%%\n",
      "\n",
      "                   | The OpenMC Monte Carlo Code\n",
      "         Copyright | 2011-2020 MIT and OpenMC contributors\n",
      "           License | https://docs.openmc.org/en/latest/license.html\n",
      "           Version | 0.12.1-dev\n",
      "          Git SHA1 | 828e0aa7dfc2e9774d8ff7532e5269723e3b6e55\n",
      "         Date/Time | 2020-09-21 20:12:58\n",
      "    OpenMP Threads | 4\n",
      "\n",
      " Reading settings XML file...\n",
      " Reading cross sections XML file...\n",
      " Reading materials XML file...\n",
      " Reading geometry XML file...\n",
      " Reading H1 from /home/stevejr/cross_sections/nndc_hdf5/H1.h5\n",
      " Reading H2 from /home/stevejr/cross_sections/nndc_hdf5/H2.h5\n",
      " Reading O16 from /home/stevejr/cross_sections/nndc_hdf5/O16.h5\n",
      " Reading O17 from /home/stevejr/cross_sections/nndc_hdf5/O17.h5\n",
      " Reading Na23 from /home/stevejr/cross_sections/nndc_hdf5/Na23.h5\n",
      " Reading Mg24 from /home/stevejr/cross_sections/nndc_hdf5/Mg24.h5\n",
      " Reading Mg25 from /home/stevejr/cross_sections/nndc_hdf5/Mg25.h5\n",
      " Reading Mg26 from /home/stevejr/cross_sections/nndc_hdf5/Mg26.h5\n",
      " Reading Al27 from /home/stevejr/cross_sections/nndc_hdf5/Al27.h5\n",
      " Reading Si28 from /home/stevejr/cross_sections/nndc_hdf5/Si28.h5\n",
      " Reading Si29 from /home/stevejr/cross_sections/nndc_hdf5/Si29.h5\n",
      " Reading Si30 from /home/stevejr/cross_sections/nndc_hdf5/Si30.h5\n",
      " Reading K39 from /home/stevejr/cross_sections/nndc_hdf5/K39.h5\n",
      " Reading K40 from /home/stevejr/cross_sections/nndc_hdf5/K40.h5\n",
      " Reading K41 from /home/stevejr/cross_sections/nndc_hdf5/K41.h5\n",
      " Reading Ca40 from /home/stevejr/cross_sections/nndc_hdf5/Ca40.h5\n",
      " Reading Ca42 from /home/stevejr/cross_sections/nndc_hdf5/Ca42.h5\n",
      " Reading Ca43 from /home/stevejr/cross_sections/nndc_hdf5/Ca43.h5\n",
      " Reading Ca44 from /home/stevejr/cross_sections/nndc_hdf5/Ca44.h5\n",
      " Reading Ca46 from /home/stevejr/cross_sections/nndc_hdf5/Ca46.h5\n",
      " Reading Ca48 from /home/stevejr/cross_sections/nndc_hdf5/Ca48.h5\n",
      " Reading Fe54 from /home/stevejr/cross_sections/nndc_hdf5/Fe54.h5\n",
      " Reading Fe56 from /home/stevejr/cross_sections/nndc_hdf5/Fe56.h5\n",
      " Reading Fe57 from /home/stevejr/cross_sections/nndc_hdf5/Fe57.h5\n",
      " Reading Fe58 from /home/stevejr/cross_sections/nndc_hdf5/Fe58.h5\n",
      " Reading C0 from /home/stevejr/cross_sections/nndc_hdf5/C0.h5\n",
      " Minimum neutron data temperature: 294.0 K\n",
      " Maximum neutron data temperature: 294.0 K\n",
      " Reading tallies XML file...\n",
      " Preparing distributed cell instances...\n",
      " Writing summary.h5 file...\n",
      " Maximum neutron transport energy: 20000000.0 eV for H1\n",
      "\n",
      " ===============>     FIXED SOURCE TRANSPORT SIMULATION     <===============\n",
      "\n",
      " Simulating batch 1\n",
      " Simulating batch 2\n",
      " Simulating batch 3\n",
      " Simulating batch 4\n",
      " Simulating batch 5\n",
      " Simulating batch 6\n",
      " Simulating batch 7\n",
      " Simulating batch 8\n",
      " Simulating batch 9\n",
      " Simulating batch 10\n",
      " Simulating batch 11\n",
      " Simulating batch 12\n",
      " Simulating batch 13\n",
      " Simulating batch 14\n",
      " Simulating batch 15\n",
      " Simulating batch 16\n",
      " Simulating batch 17\n",
      " Simulating batch 18\n",
      " Simulating batch 19\n",
      " Simulating batch 20\n",
      " Simulating batch 21\n",
      " Simulating batch 22\n",
      " Simulating batch 23\n",
      " Simulating batch 24\n",
      " Simulating batch 25\n",
      " Simulating batch 26\n",
      " Simulating batch 27\n",
      " Simulating batch 28\n",
      " Simulating batch 29\n",
      " Simulating batch 30\n",
      " Creating state point statepoint.30.h5...\n",
      "\n",
      " =======================>     TIMING STATISTICS     <=======================\n",
      "\n",
      " Total time for initialization     = 2.6016e+00 seconds\n",
      "   Reading cross sections          = 2.5601e+00 seconds\n",
      " Total time in simulation          = 3.1544e-01 seconds\n",
      "   Time in transport only          = 2.9972e-01 seconds\n",
      "   Time in active batches          = 3.1544e-01 seconds\n",
      "   Time accumulating tallies       = 3.7867e-04 seconds\n",
      " Total time for finalization       = 1.3344e-02 seconds\n",
      " Total time elapsed                = 2.9730e+00 seconds\n",
      " Calculation Rate (active)         = 95105.8 particles/second\n",
      "\n",
      " ============================>     RESULTS     <============================\n",
      "\n",
      " Leakage Fraction            = 0.90990 +/- 0.00196\n",
      "\n"
     ]
    }
   ],
   "source": [
    "# Run openmc\n",
    "openmc.run()"
   ]
  },
  {
   "cell_type": "code",
   "execution_count": 10,
   "metadata": {},
   "outputs": [
    {
     "data": {
      "image/png": "[encoded data removed]",
      "text/plain": [
       "<Figure size 432x288 with 1 Axes>"
      ]
     },
     "metadata": {
      "needs_background": "light"
     },
     "output_type": "display_data"
    }
   ],
   "source": [
    "# Get the flux from the statepoint\n",
    "with openmc.StatePoint('statepoint.{}.h5'.format(batches)) as sp:\n",
    "    flux = sp.tallies[1].mean\n",
    "    flux.shape = (50, 50)\n",
    "\n",
    "# Plot the flux\n",
    "fig, ax = plt.subplots()\n",
    "ax.imshow(flux, origin='lower', extent=(-5.0, 5.0, -5.0, 5.0))\n",
    "ax.set_xlabel('x [cm]')\n",
    "ax.set_ylabel('y [cm]')\n",
    "plt.show()"
   ]
  }
 ],
 "metadata": {
  "kernelspec": {
   "display_name": "Python 3",
   "language": "python",
   "name": "python3"
  },
  "language_info": {
   "codemirror_mode": {
    "name": "ipython",
    "version": 3
   },
   "file_extension": ".py",
   "mimetype": "text/x-python",
   "name": "python",
   "nbconvert_exporter": "python",
   "pygments_lexer": "ipython3",
   "version": "3.7.8"
  }
 },
 "nbformat": 4,
 "nbformat_minor": 4
}
